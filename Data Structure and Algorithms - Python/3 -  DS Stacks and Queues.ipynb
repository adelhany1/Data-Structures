{
 "cells": [
  {
   "cell_type": "markdown",
   "id": "78eb995d",
   "metadata": {},
   "source": [
    "# Stack\n",
    "Used to store a collection of objects.\n",
    "\n",
    "Items can be added and stored using push operator. You only get the last item you pushed in a stack.\n",
    "\n",
    "Last Input First Output (LIFO)\n",
    "\n",
    "You can't get to the first one you input at first. You have to get the last one first and then the one before and so on."
   ]
  },
  {
   "cell_type": "markdown",
   "id": "caa0bb59",
   "metadata": {},
   "source": [
    "we will use LL ... Head and Tail in LL will be Top and bottom in stack\n",
    "\n",
    "we are only adding and removing from *the Top* side Not the bottom.Because it's O(1)...\n",
    "\n",
    "prepend(add to the beginning-head-Top) in LL is O(1) ... push\n",
    "\n",
    "pop_first(remove from the beginning-head-Top) in LL is O(1) ... pop\n",
    "\n",
    "In stack it will be push and pop ,, adding and removing items from the top(beggining-head)."
   ]
  },
  {
   "cell_type": "code",
   "execution_count": 4,
   "id": "e5518da7",
   "metadata": {},
   "outputs": [],
   "source": [
    "class Node:\n",
    "    def __init__(self, value):\n",
    "        self.value = value\n",
    "        self.next = None\n",
    "        \n",
    "\n",
    "class Stack:\n",
    "    def __init__(self, value):\n",
    "        new_node = Node(value)\n",
    "        self.top = new_node   # in LL it was head and tail\n",
    "        self.height = 1\n",
    "\n",
    "    def print_stack(self):\n",
    "        temp = self.top\n",
    "        while temp is not None:\n",
    "            print(temp.value)\n",
    "            temp = temp.next\n",
    "\n",
    "    def push(self, value):        # add from the top .  LIFO.   O(1)\n",
    "        new_node = Node(value)\n",
    "        if self.height == 0:\n",
    "            self.top = new_node\n",
    "        else:\n",
    "            new_node.next = self.top\n",
    "            self.top = new_node\n",
    "        self.height += 1\n",
    "        return True\n",
    "\n",
    "    def pop(self):        # Remove fron the top O(1)\n",
    "        if self.height == 0:\n",
    "            return None\n",
    "        temp = self.top  # temp now is the first node that we want to remove\n",
    "        self.top = self.top.next  # make the second node is the top. becaue we will remove the first one (temp)\n",
    "        temp.next = None   # isoalte the temp\n",
    "        self.height -= 1\n",
    "        return temp"
   ]
  },
  {
   "cell_type": "code",
   "execution_count": 5,
   "id": "c9f9a2d1",
   "metadata": {},
   "outputs": [
    {
     "name": "stdout",
     "output_type": "stream",
     "text": [
      "<__main__.Node object at 0x0000025FDF5A88E0> \n",
      "\n",
      "3\n",
      "23\n",
      "7\n"
     ]
    }
   ],
   "source": [
    "my_stack = Stack(7)\n",
    "my_stack.push(23)\n",
    "my_stack.push(3)\n",
    "my_stack.push(11)\n",
    "\n",
    "print(my_stack.pop(), '\\n')\n",
    "\n",
    "my_stack.print_stack()"
   ]
  },
  {
   "cell_type": "code",
   "execution_count": null,
   "id": "45467aba",
   "metadata": {},
   "outputs": [],
   "source": []
  },
  {
   "cell_type": "markdown",
   "id": "c0e0f382",
   "metadata": {},
   "source": [
    "# Queue\n",
    "Linear Data Structure stores the element in a sequential manner.\n",
    "\n",
    "FIFO ... Insert elements from the bottom and remove from the top. \n",
    "\n",
    "First one you push (insert) it will always be at the head. When you pop you remove it first.\n",
    "\n",
    "ex: when we get in line. when you come first you leave first and so on .."
   ]
  },
  {
   "cell_type": "markdown",
   "id": "1738583d",
   "metadata": {},
   "source": [
    "we will use LL . Head and Tail in LL will be first and last in Queue\n",
    "\n",
    "Adding (push) = enqueue ...  Removing (pop) = dequeue\n",
    "\n",
    "enqueue(add) from the tail end [last] . and dequeue(remove) from the head end [first] because both of them are O(1)\n",
    "\n",
    "append ... Add to the tail-last in LL is O(1) ... enqueue\n",
    "\n",
    "pop_first ... Remove from head-first in LL is O(1) ... dequeue"
   ]
  },
  {
   "cell_type": "code",
   "execution_count": 2,
   "id": "c517c224",
   "metadata": {},
   "outputs": [],
   "source": [
    "class Node:\n",
    "    def __init__(self, value):\n",
    "        self.value = value\n",
    "        self.next = None\n",
    "        \n",
    "\n",
    "class Queue:\n",
    "    def __init__(self, value):\n",
    "        new_node = Node(value)\n",
    "        self.first = new_node\n",
    "        self.last = new_node\n",
    "        self.length = 1\n",
    "\n",
    "    def print_queue(self):\n",
    "        temp = self.first\n",
    "        while temp is not None:\n",
    "            print(temp.value)\n",
    "            temp = temp.next\n",
    "        \n",
    "    def enqueue(self, value):\n",
    "        new_node = Node(value)\n",
    "        if self.first is None:\n",
    "            self.first = new_node\n",
    "            self.last = new_node\n",
    "        else:\n",
    "            self.last.next = new_node  # enqueue from the tail from last\n",
    "            self.last = new_node\n",
    "        self.length += 1\n",
    "        return True\n",
    "\n",
    "    def dequeue(self):\n",
    "        if self.length == 0:\n",
    "            return None\n",
    "        temp = self.first   # remove from first\n",
    "        if self.length == 1:\n",
    "            self.first = None\n",
    "            self.last = None\n",
    "        else:\n",
    "            self.first = self.first.next\n",
    "            temp.next = None  # isolate it\n",
    "        self.length -= 1\n",
    "        return temp   # return the value we removed"
   ]
  },
  {
   "cell_type": "code",
   "execution_count": 3,
   "id": "505e10ee",
   "metadata": {},
   "outputs": [
    {
     "name": "stdout",
     "output_type": "stream",
     "text": [
      "<__main__.Node object at 0x0000025FDF576AC0>\n",
      "<__main__.Node object at 0x0000025FDF576460>\n",
      "None\n"
     ]
    }
   ],
   "source": [
    "my_queue = Queue(1)\n",
    "my_queue.enqueue(2)\n",
    "\n",
    "# (2) Items - Returns 2 Node\n",
    "print(my_queue.dequeue())\n",
    "# (1) Item -  Returns 1 Node\n",
    "print(my_queue.dequeue())\n",
    "# (0) Items - Returns None\n",
    "print(my_queue.dequeue())"
   ]
  },
  {
   "cell_type": "code",
   "execution_count": null,
   "id": "c75b90d9",
   "metadata": {},
   "outputs": [],
   "source": []
  }
 ],
 "metadata": {
  "kernelspec": {
   "display_name": "Python 3 (ipykernel)",
   "language": "python",
   "name": "python3"
  },
  "language_info": {
   "codemirror_mode": {
    "name": "ipython",
    "version": 3
   },
   "file_extension": ".py",
   "mimetype": "text/x-python",
   "name": "python",
   "nbconvert_exporter": "python",
   "pygments_lexer": "ipython3",
   "version": "3.8.5"
  }
 },
 "nbformat": 4,
 "nbformat_minor": 5
}
