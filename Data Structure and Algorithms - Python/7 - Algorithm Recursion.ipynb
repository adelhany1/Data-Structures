{
 "cells": [
  {
   "cell_type": "markdown",
   "id": "967514f5",
   "metadata": {},
   "source": [
    "# Recurion\n",
    "- A function that calls itself... ...until it doesn't\n",
    "- ex: If we have a Gift Box and we need to open it\n",
    "- The way to open it is with open_gift_box() function\n",
    "- When we run that function its return either a ball or it contains a smaller gift box and we open it again with open_gift_box() fun and so on until the ball"
   ]
  },
  {
   "cell_type": "code",
   "execution_count": 1,
   "id": "a5de2fc1",
   "metadata": {},
   "outputs": [],
   "source": [
    "#ex: Pseudo code\n",
    "\n",
    "def open_gift_box():\n",
    "    if ball:    # when this if statement is True that is the Base Case and then the fun stop calling itself\n",
    "        return ball \n",
    "    open_gift_box()\n",
    "    \n",
    "# Important:\n",
    "# The process of (openeing each new box = whatever we're doing with recusion) is the same\n",
    "# Each time we open a box, we make the problem smaller\n",
    "\n",
    "# when we find a ball it's called: Base Case (when the fun stop calling itself)\n",
    "# If it needs to call itself again: Recursive Case"
   ]
  },
  {
   "cell_type": "code",
   "execution_count": null,
   "id": "62fdde6b",
   "metadata": {},
   "outputs": [],
   "source": [
    "def open_gift_box():\n",
    "    open_gift_box()\n",
    "# This known as Stack Overflow (PROBLEM)\n",
    "# we have a Base Case where this will at some point stop calling itself\n",
    "# the statement in If has to be true at some point so we can't have something like this: 1>2\n",
    "\n",
    "# SO IF we get a Stack Overflow in a recursive function, this (if statement has to be true at some point) is where to go troubleshoot\n",
    "# HAS to be return statement not just print(''), because print doesn't stop the code and it goes to the next line and it's a stack overflow"
   ]
  },
  {
   "cell_type": "code",
   "execution_count": 2,
   "id": "660cdf0e",
   "metadata": {},
   "outputs": [
    {
     "name": "stdout",
     "output_type": "stream",
     "text": [
      "Three\n",
      "Two\n",
      "One\n"
     ]
    }
   ],
   "source": [
    "# CALL STACK\n",
    "\n",
    "# this is a stack structure where funThree is at top and has to run first, then funTwo then funOne\n",
    "def funcThree():\n",
    "    print('Three')\n",
    "\n",
    "def funcTwo():\n",
    "    funcThree()\n",
    "    print('Two')\n",
    "\n",
    "def funcOne():\n",
    "    funcTwo()\n",
    "    print('One')\n",
    "\n",
    "funcOne() # funOne is added to the call stack\n",
    "# inside funOne it calls funTwo, so it added to the call stack obove funOne\n",
    "# inside funTwo it calls funThree, si it added to the call stack above funTwo\n",
    "# SO they Run: funThree..> funTwo..> funOne (because it's a stack)\n",
    "\n",
    "# funOne will wait for funTwo to finish\n",
    "# and funTwo will wait for funThree to finish"
   ]
  },
  {
   "cell_type": "code",
   "execution_count": 3,
   "id": "5ec2f546",
   "metadata": {},
   "outputs": [
    {
     "name": "stdout",
     "output_type": "stream",
     "text": [
      "24\n"
     ]
    }
   ],
   "source": [
    "# factorial is a good example to teach recursion\n",
    "def factorial(n):\n",
    "    if n == 1:\n",
    "        return 1\n",
    "    return n * factorial(n-1)\n",
    "\n",
    "\n",
    "print(factorial(4))  #   4! =  4*3*2*1\n",
    "\n",
    "#  4! = 4* 3! = 4*3* 2! = 4*3*2* 1! = 4*3*2*1"
   ]
  },
  {
   "cell_type": "code",
   "execution_count": null,
   "id": "03b5bfb7",
   "metadata": {},
   "outputs": [],
   "source": []
  }
 ],
 "metadata": {
  "kernelspec": {
   "display_name": "Python 3 (ipykernel)",
   "language": "python",
   "name": "python3"
  },
  "language_info": {
   "codemirror_mode": {
    "name": "ipython",
    "version": 3
   },
   "file_extension": ".py",
   "mimetype": "text/x-python",
   "name": "python",
   "nbconvert_exporter": "python",
   "pygments_lexer": "ipython3",
   "version": "3.8.5"
  }
 },
 "nbformat": 4,
 "nbformat_minor": 5
}
