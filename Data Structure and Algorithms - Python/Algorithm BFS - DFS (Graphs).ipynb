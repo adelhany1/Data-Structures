{
 "cells": [
  {
   "cell_type": "markdown",
   "id": "23acebcf",
   "metadata": {},
   "source": [
    "# Breadth First Search (BFS)\n",
    "- Continue to ( 11 - Algorithm Tree Traversal )\n",
    "- BFS is a graph or a tree searching algorithm, it traverse the graph layer by layer\n",
    "- Moves horizontally and visit all nodes in the current layer then moves to the next layer\n",
    "- We acheive this by using Queues"
   ]
  },
  {
   "cell_type": "code",
   "execution_count": 5,
   "id": "05142c71",
   "metadata": {},
   "outputs": [],
   "source": [
    "from collections import defaultdict\n",
    "\n",
    "class Graph:\n",
    "    def __init__(self):\n",
    "        self.graph = defaultdict(list)\n",
    "        \n",
    "    def setEdge(self, u, v):\n",
    "        self.graph[u].append(v)\n",
    "\n",
    "    def bfs(self, s):\n",
    "        visited = set()\n",
    "        queue = []\n",
    "        queue.append(s)\n",
    "        visited.add(s)\n",
    "\n",
    "        while queue:\n",
    "            u = queue.pop(0)\n",
    "            print(u, end=\" \")\n",
    "\n",
    "            for v in self.graph[u]:\n",
    "                if v not in visited:\n",
    "                    queue.append(v)\n",
    "                    visited.add(v)"
   ]
  },
  {
   "cell_type": "code",
   "execution_count": 6,
   "id": "25dee820",
   "metadata": {},
   "outputs": [
    {
     "name": "stdout",
     "output_type": "stream",
     "text": [
      "2 1 5 6 8 9 "
     ]
    }
   ],
   "source": [
    "g = Graph()\n",
    "g.setEdge(2, 1)\n",
    "g.setEdge(2, 5)\n",
    "g.setEdge(5, 6)\n",
    "g.setEdge(5, 8)\n",
    "g.setEdge(6, 9)\n",
    "\n",
    "g.bfs(2)"
   ]
  },
  {
   "cell_type": "markdown",
   "id": "8b6753fb",
   "metadata": {},
   "source": [
    "# Depth First Search (DFS)\n",
    "- DFS is a graph or a tree searching algorithm, it is a recursive algorithm\n",
    "- DFS always moves forward until there are no other nodes in current path, else backtrack to the previous node\n",
    "- 2 Types:\n",
    " - Dfs recursive\n",
    " - Dfs Stack"
   ]
  },
  {
   "cell_type": "code",
   "execution_count": 7,
   "id": "19600445",
   "metadata": {},
   "outputs": [],
   "source": [
    "# Dfs reccursive:\n",
    "\n",
    "from collections import defaultdict\n",
    "# This class represents a directed graph using adjacency list representation\n",
    "\n",
    "class Graph:\n",
    "    # Constructor\n",
    "    def __init__(self):\n",
    "        self.graph = defaultdict(list)\n",
    "\n",
    "    def setEdge(self, u, v):\n",
    "        self.graph[u].append(v)\n",
    "        print(self.graph)\n",
    "\n",
    "    def DFS(self, u, visited):\n",
    "        visited.add(u)\n",
    "        print(u, end=' ')\n",
    "\n",
    "        for v in self.graph[u]:\n",
    "            if v not in visited:\n",
    "                self.DFS(v, visited)"
   ]
  },
  {
   "cell_type": "code",
   "execution_count": 8,
   "id": "53211563",
   "metadata": {},
   "outputs": [
    {
     "name": "stdout",
     "output_type": "stream",
     "text": [
      "defaultdict(<class 'list'>, {2: [1]})\n",
      "defaultdict(<class 'list'>, {2: [1, 5]})\n",
      "defaultdict(<class 'list'>, {2: [1, 5], 5: [6]})\n",
      "defaultdict(<class 'list'>, {2: [1, 5], 5: [6, 8]})\n",
      "defaultdict(<class 'list'>, {2: [1, 5], 5: [6, 8], 6: [9]})\n",
      "2 1 5 6 9 8 "
     ]
    }
   ],
   "source": [
    "g = Graph()\n",
    "g.setEdge(2, 1)\n",
    "g.setEdge(2, 5)\n",
    "g.setEdge(5, 6)\n",
    "g.setEdge(5, 8)\n",
    "g.setEdge(6, 9)\n",
    "\n",
    "\n",
    "visited = set()\n",
    "\n",
    "g.DFS(2, visited)"
   ]
  },
  {
   "cell_type": "code",
   "execution_count": 9,
   "id": "2a4243e2",
   "metadata": {},
   "outputs": [],
   "source": [
    "# Dfs Stack:\n",
    "from collections import defaultdict\n",
    "\n",
    "class Graph:\n",
    "    def __init__(self):\n",
    "        self.graph = defaultdict(list)\n",
    "\n",
    "    def insertEdge(self, v1, v2):\n",
    "        self.graph[v1].append(v2)\n",
    "\n",
    "    def DFS(self, startNode):\n",
    "        visited = set()\n",
    "        st = []\n",
    "        st.append(startNode)\n",
    "\n",
    "        while(len(st)):\n",
    "            cur = st[-1]\n",
    "            st.pop()\n",
    "\n",
    "            if(cur not in visited):\n",
    "                print(cur, end=\" \")\n",
    "                visited.add(cur)\n",
    "\n",
    "            for vertex in self.graph[cur]:\n",
    "                if(vertex not in visited):\n",
    "                    st.append(vertex)"
   ]
  },
  {
   "cell_type": "code",
   "execution_count": 10,
   "id": "58cc3079",
   "metadata": {},
   "outputs": [
    {
     "name": "stdout",
     "output_type": "stream",
     "text": [
      "2 5 8 6 9 1 "
     ]
    }
   ],
   "source": [
    "g = Graph()\n",
    "\n",
    "g.insertEdge(2, 1)\n",
    "g.insertEdge(2, 5)\n",
    "g.insertEdge(5, 6)\n",
    "g.insertEdge(5, 8)\n",
    "g.insertEdge(6, 9)\n",
    "\n",
    "\n",
    "g.DFS(2)"
   ]
  },
  {
   "cell_type": "code",
   "execution_count": null,
   "id": "80fe3a24",
   "metadata": {},
   "outputs": [],
   "source": []
  }
 ],
 "metadata": {
  "kernelspec": {
   "display_name": "Python 3 (ipykernel)",
   "language": "python",
   "name": "python3"
  },
  "language_info": {
   "codemirror_mode": {
    "name": "ipython",
    "version": 3
   },
   "file_extension": ".py",
   "mimetype": "text/x-python",
   "name": "python",
   "nbconvert_exporter": "python",
   "pygments_lexer": "ipython3",
   "version": "3.8.5"
  }
 },
 "nbformat": 4,
 "nbformat_minor": 5
}
