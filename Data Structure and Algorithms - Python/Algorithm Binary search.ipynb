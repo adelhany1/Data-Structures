{
 "cells": [
  {
   "cell_type": "code",
   "execution_count": 2,
   "id": "8932d0bd",
   "metadata": {},
   "outputs": [],
   "source": [
    "# to find element in a collection\n",
    "# Binary search only works on sorted collections\n",
    "def binarySearch(arr, target):\n",
    "    left = 0             # first pointer at the beginning ot the array\n",
    "    right = len(arr)-1   # second pointer at the end ot the array\n",
    "    while left <= right:\n",
    "        mid = (left+right)//2\n",
    "        # Check if x is present at mid\n",
    "        if arr[mid] == target:\n",
    "            return mid\n",
    "        # If x is greater, ignore left half\n",
    "        elif arr[mid] < target:\n",
    "            left = mid + 1                                  # set first pointer to the middle exactly\n",
    "        # If x is smaller, ignore right half\n",
    "        else:\n",
    "            right = mid - 1                                 # set end pointer to the middle exactly\n",
    "    # If we reach here, then the element was not present\n",
    "    return -1"
   ]
  },
  {
   "cell_type": "code",
   "execution_count": 4,
   "id": "a6462b3b",
   "metadata": {},
   "outputs": [
    {
     "data": {
      "text/plain": [
       "5"
      ]
     },
     "execution_count": 4,
     "metadata": {},
     "output_type": "execute_result"
    }
   ],
   "source": [
    "arr = [1, 2, 3, 4, 5, 6]\n",
    "target = 6\n",
    "\n",
    "result = binarySearch(arr, target)\n",
    "result"
   ]
  },
  {
   "cell_type": "code",
   "execution_count": 5,
   "id": "f5c16994",
   "metadata": {},
   "outputs": [
    {
     "name": "stdout",
     "output_type": "stream",
     "text": [
      "Element is present at index 5\n"
     ]
    }
   ],
   "source": [
    "if result != -1:\n",
    "    print(\"Element is present at index %d\" % result)\n",
    "else:\n",
    "    print(\"Element is not present in array\")"
   ]
  },
  {
   "cell_type": "code",
   "execution_count": null,
   "id": "64f36ea1",
   "metadata": {},
   "outputs": [],
   "source": []
  }
 ],
 "metadata": {
  "kernelspec": {
   "display_name": "Python 3 (ipykernel)",
   "language": "python",
   "name": "python3"
  },
  "language_info": {
   "codemirror_mode": {
    "name": "ipython",
    "version": 3
   },
   "file_extension": ".py",
   "mimetype": "text/x-python",
   "name": "python",
   "nbconvert_exporter": "python",
   "pygments_lexer": "ipython3",
   "version": "3.8.5"
  }
 },
 "nbformat": 4,
 "nbformat_minor": 5
}
