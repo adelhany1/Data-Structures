{
 "cells": [
  {
   "cell_type": "markdown",
   "id": "12a80455",
   "metadata": {},
   "source": [
    "# Optimization technique\n",
    "- Given an array of integers of size N, find maximum sum of K consequtive elements\n",
    "- Brute Force approach to solve this: \n",
    " - N=4, K=2 , Arr=[ 80 , -50 , 90 , 100 ] , start at index 0, find sum of first K elements then move to the next index and do it and next index ..\n",
    " - and compare the results from each start\n",
    "- Sliding Window approach:\n",
    " -  N(array size)=4, K(window size) = 2 "
   ]
  },
  {
   "cell_type": "code",
   "execution_count": 1,
   "id": "91e3be0e",
   "metadata": {},
   "outputs": [],
   "source": [
    "def maxSum(arr, windowSize):\n",
    "    arraySize = len(arr)\n",
    "    # n must be greater than k\n",
    "    if arraySize <= windowSize:\n",
    "        print(\"Invalid operation\")\n",
    "        return -1\n",
    "    # Compute sum of first window of size k, add first K elements of the array\n",
    "    window_sum = sum([arr[i] for i in range(windowSize)])\n",
    "    max_sum = window_sum            # this sum now is the max sum we have (only one so far)\n",
    "    # Compute sums of remaining windows by\n",
    "    # removing first element of previous\n",
    "    # window and adding last element of\n",
    "    # current window.\n",
    "    for i in range(arraySize-windowSize):    # loop over n-k > 0 ,,, until there's K elements still left in the array (to sum them up)\n",
    "        window_sum = window_sum - arr[i] + arr[i + windowSize]   # window sum in each set of K elements\n",
    "        # remove first item and add one from the end UNTIL there's no more elements to add from the end\n",
    "        max_sum = max(window_sum, max_sum)   # take the maximum summation\n",
    "\n",
    "    return max_sum"
   ]
  },
  {
   "cell_type": "code",
   "execution_count": 6,
   "id": "8a353d20",
   "metadata": {},
   "outputs": [
    {
     "name": "stdout",
     "output_type": "stream",
     "text": [
      "102\n"
     ]
    }
   ],
   "source": [
    "arr = [1, 2, 100, -1, 5]\n",
    "# maximum sum should be 104 => 100 + -1 + 5\n",
    "answer = maxSum(arr, 2)\n",
    "print(answer)"
   ]
  },
  {
   "cell_type": "code",
   "execution_count": 7,
   "id": "3a24a267",
   "metadata": {},
   "outputs": [
    {
     "name": "stdout",
     "output_type": "stream",
     "text": [
      "104\n"
     ]
    }
   ],
   "source": [
    "arr = [1, 2, 100, 4]\n",
    "# maximum sum should be 104 => 100 + -1 + 5\n",
    "answer = maxSum(arr, 2)\n",
    "print(answer)"
   ]
  },
  {
   "cell_type": "code",
   "execution_count": null,
   "id": "13a9870b",
   "metadata": {},
   "outputs": [],
   "source": []
  }
 ],
 "metadata": {
  "kernelspec": {
   "display_name": "Python 3 (ipykernel)",
   "language": "python",
   "name": "python3"
  },
  "language_info": {
   "codemirror_mode": {
    "name": "ipython",
    "version": 3
   },
   "file_extension": ".py",
   "mimetype": "text/x-python",
   "name": "python",
   "nbconvert_exporter": "python",
   "pygments_lexer": "ipython3",
   "version": "3.8.5"
  }
 },
 "nbformat": 4,
 "nbformat_minor": 5
}
