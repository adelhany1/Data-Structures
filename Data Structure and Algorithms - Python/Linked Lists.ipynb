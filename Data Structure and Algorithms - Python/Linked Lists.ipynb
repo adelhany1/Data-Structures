{
 "cells": [
  {
   "cell_type": "markdown",
   "id": "36df4072",
   "metadata": {},
   "source": [
    "# Doubly and Singly LL\n",
    "\n",
    " Doubly : \n",
    " \n",
    "  - Creation \n",
    "  - deletion \n",
    "  - insertion\n",
    "  \n",
    "Singly : \n",
    "  - deletion \n",
    "  - insertion \n",
    "  - intro"
   ]
  },
  {
   "cell_type": "code",
   "execution_count": 24,
   "id": "aef7a581",
   "metadata": {},
   "outputs": [],
   "source": [
    "# Doubly:\n",
    "# Node class\n",
    "class Node:\n",
    "    def __init__(self, data):\n",
    "        self.data = data\n",
    "        self.prev = None\n",
    "        self.next = None\n",
    "# Linked List class\n",
    "class LinkedList:\n",
    "    def __init__(self):\n",
    "        self.head = None\n",
    "    def createList(self, arr):\n",
    "        start = self.head\n",
    "        n = len(arr)\n",
    "        # Declare newNode and temporary pointer\n",
    "        temp = start\n",
    "        i = 0\n",
    "        # Iterate the loop until array length\n",
    "        while (i < n):\n",
    "            # Create new node\n",
    "            newNode = Node(arr[i])\n",
    "\n",
    "            if (i == 0):\n",
    "                start = newNode\n",
    "                newNode.prev = start\n",
    "                temp = start\n",
    "            else:\n",
    "                temp.next = newNode\n",
    "                newNode.prev = temp\n",
    "                temp = temp.next\n",
    "            i = i + 1\n",
    "        self.head = start\n",
    "        return start\n",
    "\n",
    "    def printList(self):\n",
    "        temp = self.head\n",
    "        linked_list = \"\"\n",
    "        while(temp):\n",
    "            linked_list += (str(temp.data) + \" \")\n",
    "            temp = temp.next\n",
    "        print(linked_list)\n",
    "        \n",
    "    # Function to count nunmber of\n",
    "    # elements in the list\n",
    "    def countList(self):\n",
    "        # Declare temp pointer to\n",
    "        # traverse the list\n",
    "        temp = self.head\n",
    "        # Variable to store the count\n",
    "        count = 0\n",
    "        # Iterate the list and increment the count\n",
    "        while (temp is not None):\n",
    "            temp = temp.next\n",
    "            count = count + 1\n",
    "        return count\n",
    "    # we will consider that the index begin at 1\n",
    "    def deleteAtLocation(self, index):\n",
    "      temp = self.head\n",
    "      count = self.countList()\n",
    "\n",
    "      if(count < index):\n",
    "        return temp\n",
    "      if(index == 1):\n",
    "        temp = temp.next\n",
    "        self.head = temp\n",
    "        return self.head\n",
    "      if(count == index):\n",
    "        while(temp.next is not None and temp.next.next is not None):\n",
    "          temp = temp.next\n",
    "         # 1 => 2 => 3 => 4\n",
    "        temp.next = None\n",
    "        return self.head\n",
    "      i = 1 \n",
    "      while(i<index-1):\n",
    "        temp = temp.next\n",
    "        i+=1\n",
    "        \n",
    "      prevNode = temp\n",
    "      nodeAtTarget = temp.next\n",
    "      nextNode = nodeAtTarget.next\n",
    "      # 1 => 2 => 3 => 4\n",
    "      nextNode.prev = prevNode\n",
    "      prevNode.next = nextNode\n",
    "      return self.head\n",
    "\n",
    "     # we will consider that the index begin at 1\n",
    "    def insertAtLocation(self, value, index):\n",
    "        temp = self.head\n",
    "        count = self.countList()\n",
    "        #index is 6, count is 5, valid \n",
    "        #index is 7, count is 5, \n",
    "        if(count+1<index):\n",
    "            return temp\n",
    "        newNode = Node(value)\n",
    "\n",
    "        if(index == 1):\n",
    "            newNode.next = temp\n",
    "            temp.prev = newNode\n",
    "            self.head = newNode\n",
    "            return self.head\n",
    "        \n",
    "        if(index == count +1):\n",
    "            while(temp.next is not None):\n",
    "                temp = temp.next\n",
    "\n",
    "            temp.next = newNode\n",
    "            newNode.prev = temp \n",
    "            return self.head\n",
    "        i = 1\n",
    "        while(i < index-1):\n",
    "            temp = temp.next\n",
    "            i+=1\n",
    "    \n",
    "        nodeAtTarget = temp.next\n",
    "        newNode.next = nodeAtTarget\n",
    "        nodeAtTarget.prev = newNode\n",
    "        temp.next = newNode\n",
    "        newNode.prev = temp\n",
    "\n",
    "        return self.head"
   ]
  },
  {
   "cell_type": "code",
   "execution_count": 21,
   "id": "468fcca0",
   "metadata": {},
   "outputs": [
    {
     "name": "stdout",
     "output_type": "stream",
     "text": [
      "1 2 3 4 5 \n"
     ]
    }
   ],
   "source": [
    "# Creation\n",
    "arr = [1,2,3,4,5]\n",
    "llist = LinkedList()\n",
    "llist.createList(arr)\n",
    "llist.printList()"
   ]
  },
  {
   "cell_type": "code",
   "execution_count": 22,
   "id": "64d4464e",
   "metadata": {},
   "outputs": [
    {
     "name": "stdout",
     "output_type": "stream",
     "text": [
      "1 3 4 5 \n"
     ]
    }
   ],
   "source": [
    "# Deletion\n",
    "# create an empty list\n",
    "arr = [1, 2, 3, 4, 5]\n",
    "llist = LinkedList()\n",
    "llist.createList(arr)\n",
    "llist.deleteAtLocation(2)\n",
    "# print(llist.head)\n",
    "llist.printList()"
   ]
  },
  {
   "cell_type": "code",
   "execution_count": 23,
   "id": "bfa68969",
   "metadata": {},
   "outputs": [
    {
     "name": "stdout",
     "output_type": "stream",
     "text": [
      "1 2 3 4 5 5 \n"
     ]
    }
   ],
   "source": [
    "# insertion\n",
    "arr = [1, 2, 3, 4, 5]\n",
    "llist = LinkedList()\n",
    "llist.createList(arr)\n",
    "llist.insertAtLocation(5,6)\n",
    "llist.printList()"
   ]
  },
  {
   "cell_type": "code",
   "execution_count": null,
   "id": "d067071e",
   "metadata": {},
   "outputs": [],
   "source": [
    "# Singly : deletion - insertion - intro"
   ]
  },
  {
   "cell_type": "code",
   "execution_count": 27,
   "id": "618ffd2d",
   "metadata": {},
   "outputs": [],
   "source": [
    "# deletion:\n",
    "class Node:\n",
    "\n",
    "    def __init__(self, data):\n",
    "        self.data = data\n",
    "        self.next = None\n",
    "\n",
    "\n",
    "class LinkedList:\n",
    "\n",
    "    def __init__(self):\n",
    "        self.head = None\n",
    "\n",
    "    def printList(self):\n",
    "        temp = self.head\n",
    "        linked_list = \"\"\n",
    "        while(temp):\n",
    "            linked_list += (str(temp.data) + \" \")\n",
    "            temp = temp.next\n",
    "        print(linked_list)\n",
    "\n",
    "    def deleteNode(self, key):\n",
    "        temp = self.head\n",
    "        if(temp is None):\n",
    "            return\n",
    "        if(temp.data == key):\n",
    "            self.head = temp.next\n",
    "            temp = None\n",
    "            return\n",
    "\n",
    "        while(temp.next.data != key):\n",
    "            temp = temp.next\n",
    "\n",
    "        target_node = temp.next\n",
    "        temp.next = target_node.next\n",
    "        target_node.next = None\n",
    "    # list start at 0\n",
    "    def insertNode(self, val, pos):\n",
    "        target = Node(val)\n",
    "        if(pos == 0):\n",
    "            target.next = self.head\n",
    "            self.head = target\n",
    "            return\n",
    "\n",
    "        def getPrev(pos):\n",
    "            temp = self.head\n",
    "            count = 1\n",
    "            while(count < pos):\n",
    "                temp = temp.next\n",
    "                count += 1\n",
    "            return temp\n",
    "\n",
    "        prev = getPrev(pos)\n",
    "        nextNode = prev.next\n",
    "\n",
    "        prev.next = target\n",
    "        target.next = nextNode"
   ]
  },
  {
   "cell_type": "code",
   "execution_count": 28,
   "id": "cbe0d779",
   "metadata": {},
   "outputs": [
    {
     "name": "stdout",
     "output_type": "stream",
     "text": [
      "5 1 7 \n"
     ]
    }
   ],
   "source": [
    "# Deletion\n",
    "# List Structure : 5 => 1 => 3 => 7\n",
    "# 5 => 1 => 7\n",
    "linked_list = LinkedList()\n",
    "linked_list.head = Node(5)\n",
    "\n",
    "second_node = Node(1)\n",
    "third_node = Node(3)\n",
    "fourth_node = Node(7)\n",
    "\n",
    "linked_list.head.next = second_node\n",
    "second_node.next = third_node\n",
    "third_node.next = fourth_node\n",
    "\n",
    "linked_list.deleteNode(3)\n",
    "linked_list.printList()"
   ]
  },
  {
   "cell_type": "code",
   "execution_count": 29,
   "id": "016eb2ee",
   "metadata": {},
   "outputs": [
    {
     "name": "stdout",
     "output_type": "stream",
     "text": [
      "5 1 2 3 7 \n"
     ]
    }
   ],
   "source": [
    "# Insertion\n",
    "# List Structure : 5 => 1 => 3 => 7\n",
    "linked_list = LinkedList()\n",
    "linked_list.head = Node(5)\n",
    "\n",
    "second_node = Node(1)\n",
    "third_node = Node(3)\n",
    "fourth_node = Node(7)\n",
    "\n",
    "linked_list.head.next = second_node\n",
    "second_node.next = third_node\n",
    "third_node.next = fourth_node\n",
    "\n",
    "linked_list.insertNode(2, 2)\n",
    "linked_list.printList()"
   ]
  },
  {
   "cell_type": "code",
   "execution_count": 30,
   "id": "350368d8",
   "metadata": {},
   "outputs": [
    {
     "name": "stdout",
     "output_type": "stream",
     "text": [
      "5 1 3 7 \n"
     ]
    }
   ],
   "source": [
    "# Intro\n",
    "# Node strucutre: 5 => 1 => 3 => 7\n",
    "\n",
    "\n",
    "linked_list = LinkedList()\n",
    "linked_list.head = Node(5)\n",
    "\n",
    "second_node = Node(1)\n",
    "third_node = Node(3)\n",
    "fourth_node = Node(7)\n",
    "\n",
    "linked_list.head.next = second_node\n",
    "second_node.next = third_node\n",
    "third_node.next = fourth_node\n",
    "\n",
    "linked_list.printList()"
   ]
  },
  {
   "cell_type": "code",
   "execution_count": null,
   "id": "5cd532ab",
   "metadata": {},
   "outputs": [],
   "source": []
  }
 ],
 "metadata": {
  "kernelspec": {
   "display_name": "Python 3 (ipykernel)",
   "language": "python",
   "name": "python3"
  },
  "language_info": {
   "codemirror_mode": {
    "name": "ipython",
    "version": 3
   },
   "file_extension": ".py",
   "mimetype": "text/x-python",
   "name": "python",
   "nbconvert_exporter": "python",
   "pygments_lexer": "ipython3",
   "version": "3.8.5"
  }
 },
 "nbformat": 4,
 "nbformat_minor": 5
}
