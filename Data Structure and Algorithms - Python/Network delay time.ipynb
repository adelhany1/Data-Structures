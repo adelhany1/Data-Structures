{
 "cells": [
  {
   "cell_type": "code",
   "execution_count": 1,
   "id": "ce869ea9",
   "metadata": {},
   "outputs": [
    {
     "ename": "NameError",
     "evalue": "name 'List' is not defined",
     "output_type": "error",
     "traceback": [
      "\u001b[1;31m---------------------------------------------------------------------------\u001b[0m",
      "\u001b[1;31mNameError\u001b[0m                                 Traceback (most recent call last)",
      "Input \u001b[1;32mIn [1]\u001b[0m, in \u001b[0;36m<cell line: 2>\u001b[1;34m()\u001b[0m\n\u001b[0;32m      1\u001b[0m \u001b[38;5;66;03m# network delay time - leetcode\u001b[39;00m\n\u001b[1;32m----> 2\u001b[0m \u001b[38;5;28;01mclass\u001b[39;00m \u001b[38;5;21;01mSolution\u001b[39;00m:\n\u001b[0;32m      3\u001b[0m     \u001b[38;5;28;01mdef\u001b[39;00m \u001b[38;5;21mnetworkDelayTime\u001b[39m(\u001b[38;5;28mself\u001b[39m, times: List[List[\u001b[38;5;28mint\u001b[39m]], N: \u001b[38;5;28mint\u001b[39m, K: \u001b[38;5;28mint\u001b[39m) \u001b[38;5;241m-\u001b[39m\u001b[38;5;241m>\u001b[39m \u001b[38;5;28mint\u001b[39m:\n\u001b[0;32m      5\u001b[0m         g \u001b[38;5;241m=\u001b[39m collections\u001b[38;5;241m.\u001b[39mdefaultdict(\u001b[38;5;28mlist\u001b[39m)\n",
      "Input \u001b[1;32mIn [1]\u001b[0m, in \u001b[0;36mSolution\u001b[1;34m()\u001b[0m\n\u001b[0;32m      2\u001b[0m \u001b[38;5;28;01mclass\u001b[39;00m \u001b[38;5;21;01mSolution\u001b[39;00m:\n\u001b[1;32m----> 3\u001b[0m     \u001b[38;5;28;01mdef\u001b[39;00m \u001b[38;5;21mnetworkDelayTime\u001b[39m(\u001b[38;5;28mself\u001b[39m, times: \u001b[43mList\u001b[49m[List[\u001b[38;5;28mint\u001b[39m]], N: \u001b[38;5;28mint\u001b[39m, K: \u001b[38;5;28mint\u001b[39m) \u001b[38;5;241m-\u001b[39m\u001b[38;5;241m>\u001b[39m \u001b[38;5;28mint\u001b[39m:\n\u001b[0;32m      5\u001b[0m         g \u001b[38;5;241m=\u001b[39m collections\u001b[38;5;241m.\u001b[39mdefaultdict(\u001b[38;5;28mlist\u001b[39m)\n\u001b[0;32m      6\u001b[0m         \u001b[38;5;28;01mfor\u001b[39;00m u, v, cost \u001b[38;5;129;01min\u001b[39;00m times:\n",
      "\u001b[1;31mNameError\u001b[0m: name 'List' is not defined"
     ]
    }
   ],
   "source": [
    "# network delay time - leetcode\n",
    "class Solution:\n",
    "    def networkDelayTime(self, times: List[List[int]], N: int, K: int) -> int:\n",
    "\n",
    "        g = collections.defaultdict(list)\n",
    "        for u, v, cost in times:\n",
    "            g[u].append((cost, v))\n",
    "\n",
    "        # cost,node\n",
    "        min_heap = [(0, K)]\n",
    "        visited = set()\n",
    "        distance = {i: float('inf') for i in range(1, N+1)}\n",
    "        distance[K] = 0\n",
    "\n",
    "        while min_heap:\n",
    "            cur_dist, u = heapq.heappop(min_heap)\n",
    "            if u in visited:\n",
    "                continue\n",
    "            visited.add(u)\n",
    "            if len(visited) == N:\n",
    "                return cur_dist\n",
    "\n",
    "            for direct_distance, v in g[u]:\n",
    "                if cur_dist + direct_distance < distance[v] and v not in visited:\n",
    "                    distance[v] = cur_dist + direct_distance\n",
    "                    heapq.heappush(min_heap, (cur_dist + direct_distance, v))\n",
    "        return -1\n"
   ]
  },
  {
   "cell_type": "code",
   "execution_count": null,
   "id": "1a5a0725",
   "metadata": {},
   "outputs": [],
   "source": []
  }
 ],
 "metadata": {
  "kernelspec": {
   "display_name": "Python 3 (ipykernel)",
   "language": "python",
   "name": "python3"
  },
  "language_info": {
   "codemirror_mode": {
    "name": "ipython",
    "version": 3
   },
   "file_extension": ".py",
   "mimetype": "text/x-python",
   "name": "python",
   "nbconvert_exporter": "python",
   "pygments_lexer": "ipython3",
   "version": "3.8.5"
  }
 },
 "nbformat": 4,
 "nbformat_minor": 5
}
