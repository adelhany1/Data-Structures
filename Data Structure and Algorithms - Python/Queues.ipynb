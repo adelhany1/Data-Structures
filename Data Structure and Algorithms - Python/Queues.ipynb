{
 "cells": [
  {
   "cell_type": "code",
   "execution_count": null,
   "id": "1adb833a",
   "metadata": {},
   "outputs": [],
   "source": [
    "class QueueLine:\n",
    "\tdef __init__(self):\n",
    "        self.q = []\n",
    "    \n",
    "    def enqueue(self, x: int) -> None:\n",
    "        self.q.append(x)\n",
    "\n",
    "\n",
    "    def dequeue(self) -> None:\n",
    "        if(len(self.q) > 0):\n",
    "            self.q.pop(0)\n",
    "\n",
    "    def front(self) -> int:\n",
    "        if(len(self.q) == 0):\n",
    "            return None\n",
    "\n",
    "        return self.q[0]"
   ]
  }
 ],
 "metadata": {
  "kernelspec": {
   "display_name": "Python 3 (ipykernel)",
   "language": "python",
   "name": "python3"
  },
  "language_info": {
   "codemirror_mode": {
    "name": "ipython",
    "version": 3
   },
   "file_extension": ".py",
   "mimetype": "text/x-python",
   "name": "python",
   "nbconvert_exporter": "python",
   "pygments_lexer": "ipython3",
   "version": "3.8.5"
  }
 },
 "nbformat": 4,
 "nbformat_minor": 5
}
