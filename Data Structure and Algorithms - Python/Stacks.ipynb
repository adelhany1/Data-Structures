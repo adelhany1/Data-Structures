{
 "cells": [
  {
   "cell_type": "code",
   "execution_count": null,
   "id": "c95759a8",
   "metadata": {},
   "outputs": [],
   "source": [
    "class PlateStack:\n",
    "\n",
    "    def __init__(self):\n",
    "        self.st = []\n",
    "\n",
    "    def push(self, x: int) -> None:\n",
    "        self.st.append(x)\n",
    "\n",
    "    def pop(self) -> None:\n",
    "        if(len(self.st) > 0):\n",
    "            self.st.pop()\n",
    "\n",
    "    def top(self) -> int:\n",
    "        if(len(self.st) == 0):\n",
    "            return None\n",
    "        return self.st[-1]\n",
    "\n",
    "    def getLen(self) -> int:\n",
    "      return len(self.st)"
   ]
  }
 ],
 "metadata": {
  "kernelspec": {
   "display_name": "Python 3 (ipykernel)",
   "language": "python",
   "name": "python3"
  },
  "language_info": {
   "codemirror_mode": {
    "name": "ipython",
    "version": 3
   },
   "file_extension": ".py",
   "mimetype": "text/x-python",
   "name": "python",
   "nbconvert_exporter": "python",
   "pygments_lexer": "ipython3",
   "version": "3.8.5"
  }
 },
 "nbformat": 4,
 "nbformat_minor": 5
}
