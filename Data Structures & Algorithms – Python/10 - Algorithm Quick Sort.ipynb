{
 "cells": [
  {
   "cell_type": "markdown",
   "id": "dbfccd97",
   "metadata": {},
   "source": [
    "# Quick Sort\n",
    "- overview"
   ]
  },
  {
   "cell_type": "code",
   "execution_count": 7,
   "id": "9b07683d",
   "metadata": {},
   "outputs": [],
   "source": [
    "def swap(my_list, index1, index2):  # swab 2 indecies in a list (0,1,2,3,...), used in pivot function\n",
    "    temp = my_list[index1]\n",
    "    my_list[index1] = my_list[index2]\n",
    "    my_list[index2] = temp\n",
    "\n",
    "\n",
    "def pivot(my_list, pivot_index, end_index):  # will be used inside quick_sort_helper function\n",
    "    swap_index = pivot_index                       # first item in the list. index:0\n",
    "\n",
    "    for i in range(pivot_index+1, end_index+1):    # start from the second item to the final item in the list\n",
    "        if my_list[i] < my_list[pivot_index]:      # when index i(ex:2) LESS than the first item(0)\n",
    "            swap_index += 1                        # move swap_index +1 : to be 1 instead of 0 .. be 3 instead of 2 and so on\n",
    "            swap(my_list, swap_index, i)           # Then Swap values between swap_index(1) and i(3) , could both be (2), that's ok\n",
    "                                           # Then move forward again with i and do it again until the list is Done\n",
    "                                           # when we Done, will have first part of the list less than first item and second part larger than first item\n",
    "    swap(my_list, pivot_index, swap_index) # pivot_index(first item). swap_index(last item in first part). SWAP THEM (THE VALUES)      \n",
    "    return swap_index                      #return swap_index: Value of the first item but now his index in the half of the list\n",
    "    # we return this index because: when we run quick sort again, we will do on the first side ONLY, up to but not included swap_index\n",
    "    # and on the other side: swap_index + 1 to the end of the list\n",
    "\n",
    "# recursevly run pivot again\n",
    "def quick_sort_helper(my_list, left, right):  # if list has 7 items, will be 0 and 6\n",
    "    if left < right:   # when left = right then we will only have 1 item and then it'll stop\n",
    "        pivot_index = pivot(my_list, left, right)         # Rearrange the list and Return the index \n",
    "        quick_sort_helper(my_list, left, pivot_index-1)   # same list but now with a different range ,, first part (left)\n",
    "        quick_sort_helper(my_list, pivot_index+1, right)  # second part (right)\n",
    "    return my_list\n",
    "\n",
    "def quick_sort(my_list):   # this is only make us don't have to enter (brginning(0) and ending (6)) every time\n",
    "    return quick_sort_helper(my_list, 0, len(my_list)-1)   # if list has 7 items, will be 0 and 6"
   ]
  },
  {
   "cell_type": "code",
   "execution_count": 5,
   "id": "91b5d8ad",
   "metadata": {},
   "outputs": [
    {
     "name": "stdout",
     "output_type": "stream",
     "text": [
      "[1, 2, 3, 4, 5, 6, 7]\n"
     ]
    }
   ],
   "source": [
    "print(quick_sort([4,6,1,7,3,2,5]))"
   ]
  },
  {
   "cell_type": "code",
   "execution_count": 2,
   "id": "7699bc12",
   "metadata": {},
   "outputs": [],
   "source": [
    "my_list = [5,8,3,2,4]"
   ]
  },
  {
   "cell_type": "code",
   "execution_count": 3,
   "id": "3915a64d",
   "metadata": {},
   "outputs": [
    {
     "data": {
      "text/plain": [
       "[2, 3, 4, 5, 8]"
      ]
     },
     "execution_count": 3,
     "metadata": {},
     "output_type": "execute_result"
    }
   ],
   "source": [
    "quick_sort(my_list)"
   ]
  },
  {
   "cell_type": "code",
   "execution_count": 4,
   "id": "073b4ea4",
   "metadata": {},
   "outputs": [
    {
     "data": {
      "text/plain": [
       "[2, 3, 4, 5, 8]"
      ]
     },
     "execution_count": 4,
     "metadata": {},
     "output_type": "execute_result"
    }
   ],
   "source": [
    "my_list  # it will change"
   ]
  },
  {
   "cell_type": "markdown",
   "id": "a25f8423",
   "metadata": {},
   "source": [
    "# Quick Sort: Big O\n",
    "- 1st step is to run pivot: for loop through the list looking at each item: O(n)\n",
    "- the Recursive part, we've done 3 steps to 8 items: O(log(n))\n",
    "- Quick Sort: O(n log(n)) Just like Merge Sort, but that for the best and average cases\n",
    "- Worst case: if the list is already sorted, will have to run pivot to every single item: O(n squared) if we have already sorted data\n",
    "- SO: if we have data out of order, we can count on it as O(log(n)) times\n",
    "- BUT if we have sorted data it'll be better to use something like Insertion Sort\n",
    "- Insertion Sort is generally O(n squared), but best possible scenario: O(n)"
   ]
  },
  {
   "cell_type": "code",
   "execution_count": null,
   "id": "c5704412",
   "metadata": {},
   "outputs": [],
   "source": []
  }
 ],
 "metadata": {
  "kernelspec": {
   "display_name": "Python 3 (ipykernel)",
   "language": "python",
   "name": "python3"
  },
  "language_info": {
   "codemirror_mode": {
    "name": "ipython",
    "version": 3
   },
   "file_extension": ".py",
   "mimetype": "text/x-python",
   "name": "python",
   "nbconvert_exporter": "python",
   "pygments_lexer": "ipython3",
   "version": "3.8.5"
  }
 },
 "nbformat": 4,
 "nbformat_minor": 5
}
