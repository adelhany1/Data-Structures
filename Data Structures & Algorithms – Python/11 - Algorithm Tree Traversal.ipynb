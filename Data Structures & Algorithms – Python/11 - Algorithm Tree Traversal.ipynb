{
 "cells": [
  {
   "cell_type": "markdown",
   "id": "2bef4fa4",
   "metadata": {},
   "source": [
    "# Tree Traversal\n",
    "- visit every node in a tree, take the values and put them in a list and return that list\n",
    "- They are multiple ways to visit each node\n",
    " - Start at the top and then the second row from left to right and then the third and so on .. called: **Breadth First Search** (BFS)\n",
    " - Start from buttom left then come up then come down then come up to the higher node, then from left to up again. Called: **Depth First Search**\n",
    "   - we'll look at 3 ways of doing **Depth First Search** we'll look at"
   ]
  },
  {
   "cell_type": "markdown",
   "id": "32979fc1",
   "metadata": {},
   "source": [
    "**Breadth First Search** (BFS)\n",
    "- Create 2 lists: queue and Results\n",
    "- Results will be returned with all the values of the nodes\n",
    "- Queue : Start at the top and store the whole node in it, not just the value .. the left and right as well\n",
    "- The Value will be moving from queue down to results\n",
    "- after that.. The left node of the first node will be stored in the queue and then the right node will stored after the left\n",
    "- Go with the same steps with the value and the left and the right again and again\n",
    "- This loop will run as along as and only if Queue has items in it"
   ]
  },
  {
   "cell_type": "code",
   "execution_count": 1,
   "id": "42371139",
   "metadata": {},
   "outputs": [],
   "source": [
    "class Node:\n",
    "    def __init__(self, value):\n",
    "        self.value = value\n",
    "        self.left = None\n",
    "        self.right = None\n",
    "\n",
    "class BinarySearchTree:   # did it before\n",
    "    def __init__(self):\n",
    "        self.root = None\n",
    "\n",
    "    def insert(self, value):\n",
    "        new_node = Node(value)\n",
    "        if self.root is None:\n",
    "            self.root = new_node\n",
    "            return True\n",
    "        temp = self.root\n",
    "        while (True):\n",
    "            if new_node.value == temp.value:\n",
    "                return False\n",
    "            if new_node.value < temp.value:\n",
    "                if temp.left is None:\n",
    "                    temp.left = new_node\n",
    "                    return True\n",
    "                temp = temp.left\n",
    "            else: \n",
    "                if temp.right is None:\n",
    "                    temp.right = new_node\n",
    "                    return True\n",
    "                temp = temp.right\n",
    "\n",
    "    def contains(self, value):   # see if tree contains a particular value\n",
    "        if self.root is None:\n",
    "            return False\n",
    "        temp = self.root\n",
    "        while (temp):\n",
    "            if value < temp.value:\n",
    "                temp = temp.left\n",
    "            elif value > temp.value:\n",
    "                temp = temp.right\n",
    "            else:\n",
    "                return True\n",
    "        return False\n",
    "        \n",
    "    def BFS(self):\n",
    "        current_node = self.root\n",
    "        queue = []\n",
    "        results = []\n",
    "        queue.append(current_node)\n",
    "\n",
    "        while len(queue) > 0:                     # until the queue is empty\n",
    "            current_node = queue.pop(0)           # equal to the first item in the queue  .....  .pop() is a method in the lists (like .append)\n",
    "            results.append(current_node.value)    # append his value to the results\n",
    "            if current_node.left is not None:\n",
    "                queue.append(current_node.left)    # if it has a left, add it to the queue\n",
    "            if current_node.right is not None:\n",
    "                queue.append(current_node.right)   # if it has a right, add it to the queue, we append to the end. Remember\n",
    "        return results\n",
    "    \n",
    "\n",
    "#  1st way: preOrder\n",
    "# start with the top node ,, then the left in the secon row ,, then the left in the third row and SO ON\n",
    "# then the right from bottom until we finish all values at the left of the head (root)\n",
    "# Then the value on the right of the root then it's left and left(if there's any) and right\n",
    "    def dfs_pre_order(self):\n",
    "        results = []\n",
    "        def traverse(current_node):\n",
    "            results.append(current_node.value)\n",
    "            if current_node.left is not None:\n",
    "                traverse(current_node.left)\n",
    "            if current_node.right is not None:\n",
    "                traverse(current_node.right)\n",
    "        traverse(self.root)\n",
    "        return results\n",
    "#  2nd way: postOrder\n",
    "\n",
    "    def dfs_post_order(self):\n",
    "        results = []\n",
    "        def traverse(current_node):\n",
    "            if current_node.left is not None:\n",
    "                traverse(current_node.left)\n",
    "            if current_node.right is not None:\n",
    "                traverse(current_node.right)\n",
    "            results.append(current_node.value)\n",
    "        traverse(self.root)\n",
    "        return results\n",
    "\n",
    "    def dfs_in_order(self):\n",
    "        results = []\n",
    "        def traverse(current_node):\n",
    "            if current_node.left is not None:\n",
    "                traverse(current_node.left)\n",
    "            results.append(current_node.value) \n",
    "            if current_node.right is not None:\n",
    "                traverse(current_node.right)          \n",
    "        traverse(self.root)\n",
    "        return results"
   ]
  },
  {
   "cell_type": "code",
   "execution_count": 8,
   "id": "7e73984d",
   "metadata": {},
   "outputs": [],
   "source": [
    "import matplotlib.pyplot as plt\n",
    "%matplotlib inline\n",
    "from PIL import Image\n",
    "import warnings\n",
    "warnings.filterwarnings(\"ignore\")"
   ]
  },
  {
   "cell_type": "code",
   "execution_count": 11,
   "id": "05ab9560",
   "metadata": {},
   "outputs": [
    {
     "data": {
      "text/plain": [
       "<matplotlib.image.AxesImage at 0x2a301c7a730>"
      ]
     },
     "execution_count": 11,
     "metadata": {},
     "output_type": "execute_result"
    },
    {
     "data": {
      "image/png": "[encoded data removed]",
      "text/plain": [
       "<Figure size 360x360 with 1 Axes>"
      ]
     },
     "metadata": {
      "needs_background": "light"
     },
     "output_type": "display_data"
    }
   ],
   "source": [
    "my_tree = BinarySearchTree()\n",
    "my_tree.insert(47)\n",
    "my_tree.insert(21)\n",
    "my_tree.insert(76)\n",
    "my_tree.insert(18)\n",
    "my_tree.insert(27)\n",
    "my_tree.insert(52)\n",
    "my_tree.insert(82)\n",
    "\n",
    "plt.figure(figsize=(5,5))\n",
    "image = Image.open('D:/capture.JPG')\n",
    "plt.imshow(image)"
   ]
  },
  {
   "cell_type": "code",
   "execution_count": 6,
   "id": "2116933a",
   "metadata": {},
   "outputs": [
    {
     "data": {
      "text/plain": [
       "[47, 21, 18, 27, 76, 52, 82]"
      ]
     },
     "execution_count": 6,
     "metadata": {},
     "output_type": "execute_result"
    }
   ],
   "source": [
    "my_tree.dfs_pre_order()"
   ]
  },
  {
   "cell_type": "code",
   "execution_count": 7,
   "id": "9c3b6e5f",
   "metadata": {},
   "outputs": [
    {
     "data": {
      "text/plain": [
       "[18, 27, 21, 52, 82, 76, 47]"
      ]
     },
     "execution_count": 7,
     "metadata": {},
     "output_type": "execute_result"
    }
   ],
   "source": [
    "my_tree.dfs_post_order()"
   ]
  },
  {
   "cell_type": "code",
   "execution_count": 5,
   "id": "b7ccf729",
   "metadata": {},
   "outputs": [
    {
     "data": {
      "text/plain": [
       "[18, 21, 27, 47, 52, 76, 82]"
      ]
     },
     "execution_count": 5,
     "metadata": {},
     "output_type": "execute_result"
    }
   ],
   "source": [
    "my_tree.dfs_in_order()"
   ]
  },
  {
   "cell_type": "code",
   "execution_count": null,
   "id": "51b6516a",
   "metadata": {},
   "outputs": [],
   "source": []
  }
 ],
 "metadata": {
  "kernelspec": {
   "display_name": "Python 3 (ipykernel)",
   "language": "python",
   "name": "python3"
  },
  "language_info": {
   "codemirror_mode": {
    "name": "ipython",
    "version": 3
   },
   "file_extension": ".py",
   "mimetype": "text/x-python",
   "name": "python",
   "nbconvert_exporter": "python",
   "pygments_lexer": "ipython3",
   "version": "3.8.5"
  }
 },
 "nbformat": 4,
 "nbformat_minor": 5
}
