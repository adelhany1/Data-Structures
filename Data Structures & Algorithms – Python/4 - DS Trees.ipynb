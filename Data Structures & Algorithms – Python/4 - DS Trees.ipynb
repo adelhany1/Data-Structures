{
 "cells": [
  {
   "cell_type": "markdown",
   "id": "571a2b54",
   "metadata": {},
   "source": [
    "# Trees\n",
    "- Linked List is consider kind of trees\n",
    "- A value in tree will have (left and right) values down from each node IF it's a Binary Tree\n",
    "- BUT trees doesn't have to be Binary, You can have it point to more than 2 nodes\n",
    "- But we are going to build a Binary Tree, each node can point to 2 nodes and so on ..\n",
    "- A Full Tree: is a tree where every node either points to zero or 2 nodes. IF any node points to only one node then it's not FULL\n",
    "- A Perfect Tree: any lvl in the tree that has any nodes is completely filled all the way across. You can draw a Horizontal line in the tree.\n",
    "- A Complete Tree: if the tree filled from left to right with No gaps between nodes.\n",
    "- The head is a Parent and then Childs, every node only have one parent\n",
    "- A child nodes can also parent nodes ..\n",
    "- Nodes is the bottom don't have any children, they called Leafs"
   ]
  },
  {
   "cell_type": "markdown",
   "id": "fa04095e",
   "metadata": {},
   "source": [
    "**Binary Search Trees** (BST), The nodes have to be laid out in a particular way:\n",
    "- We have 1 node in our Tree: A, we will add B.\n",
    "- with Binary Search Tree, if B>A , will be added to the right. IF B<A , will be added to the left\n",
    "- B is greater So added to the Right. DONE\n",
    "- Add another node C (always start at the top) , C>A , To the right (with B )\n",
    "- Campare it with B,  C<B , To the left under B\n",
    "- Add another node D , compare it with A , D<A ,  So to the left under A ,,, and so on\n",
    "- If all nodes added are greater than the previous one then we will go allways to the right then it's a LikedList :D (Worst Possible Scenario)\n",
    "- ... \n",
    "- POINT OUT of (BST): All nodes below (X) to the right will be greater than (X) and to the left will be less than (X)"
   ]
  },
  {
   "cell_type": "markdown",
   "id": "83c61a87",
   "metadata": {},
   "source": [
    "Big O of BST is O(log n). Very Efficient\n",
    "- If all nodes added are greater than the previous one then we will go allways to the right then it's a LikedList :D (Worst Scenario).. and that's O(n)\n",
    "- Notice that in that Worst Case Scenarion, the LL will be Sorted because we always add bigger values\n",
    "- O(n) because we have to iterate through the LL\n",
    "- So we treat Tree as O(log n) , For lookup(), insert(), remove() . We treat this as it it's O(log n)\n",
    "- in LinkedList: lookup() is O(n). BST is better(Faster) than LL here.\n",
    "- in LinkedList: remove() is O(n). BST is better than LL here.\n",
    "- in LinkedList: insert() is O(1) Because it's just append to the end of LL. LL or List(Ordinary) is better than BST here. (Not too much)\n",
    "- Interview: we need to be able to add data to a DataStructure **very quickly** BUT Retrival Speed is not very important? LL is better than BST"
   ]
  },
  {
   "cell_type": "markdown",
   "id": "95b04383",
   "metadata": {},
   "source": [
    "- In LL, we have the Head pointing to the first Node, Here we will call it Root\n",
    "- HINCE: WE are only added Unique values to the Tree"
   ]
  },
  {
   "cell_type": "code",
   "execution_count": null,
   "id": "01d7bed4",
   "metadata": {},
   "outputs": [],
   "source": []
  },
  {
   "cell_type": "code",
   "execution_count": 2,
   "id": "4901009d",
   "metadata": {},
   "outputs": [],
   "source": [
    "class Node:\n",
    "    def __init__(self, value):\n",
    "        self.value = value\n",
    "        self.left = None\n",
    "        self.right = None\n",
    "        \n",
    "\n",
    "class BinarySearchTree:\n",
    "    def __init__(self):\n",
    "        self.root = None  # empty tree and add values with insert method\n",
    "\n",
    "    def insert(self, value):\n",
    "        new_node = Node(value)  # create new node\n",
    "        if self.root is None:   # if the tree is empty\n",
    "            self.root = new_node   # make this node the head (the head of the tree called root)\n",
    "            return True\n",
    "        temp = self.root\n",
    "        while (True):\n",
    "            if new_node.value == temp.value:  # if the node we added is the first (the root(head)) (the only one)\n",
    "                return False                  # go out of the while ,, if it's not the only one then continue\n",
    "            \n",
    "            if new_node.value < temp.value:   # if it's value less than the root will go to the left\n",
    "                if temp.left is None:         # and there's nothing on the root's left\n",
    "                    temp.left = new_node      # make the new one on the root's left\n",
    "                    return True               # return true to continie in the while loop\n",
    "                temp = temp.left              # the node we will dealing with is the one on the left (if there's any) ( if temp.left is Not None:)\n",
    "                \n",
    "            else:                             # if it's value greater than the root \n",
    "                if temp.right is None:        # and there's nothing on the root's right\n",
    "                    temp.right = new_node     # make the new one on the root's right\n",
    "                    return True\n",
    "                temp = temp.right\n",
    "\n",
    "    def contains(self, value):  # see if tree contains a particular value\n",
    "        temp = self.root\n",
    "        while (temp is not None):\n",
    "            if value < temp.value:\n",
    "                temp = temp.left\n",
    "            elif value > temp.value:\n",
    "                temp = temp.right\n",
    "            else:\n",
    "                return True\n",
    "        return False"
   ]
  },
  {
   "cell_type": "code",
   "execution_count": 4,
   "id": "96f9aae0",
   "metadata": {},
   "outputs": [
    {
     "name": "stdout",
     "output_type": "stream",
     "text": [
      "True\n",
      "False\n"
     ]
    }
   ],
   "source": [
    "my_tree = BinarySearchTree()\n",
    "my_tree.insert(47)\n",
    "my_tree.insert(21)\n",
    "my_tree.insert(76)\n",
    "my_tree.insert(18)\n",
    "my_tree.insert(27)\n",
    "my_tree.insert(52)\n",
    "my_tree.insert(82)\n",
    "\n",
    "\n",
    "print(my_tree.contains(27))\n",
    "\n",
    "print(my_tree.contains(17))\n",
    "                \n"
   ]
  },
  {
   "cell_type": "code",
   "execution_count": null,
   "id": "a9fb1f4a",
   "metadata": {},
   "outputs": [],
   "source": []
  }
 ],
 "metadata": {
  "kernelspec": {
   "display_name": "Python 3 (ipykernel)",
   "language": "python",
   "name": "python3"
  },
  "language_info": {
   "codemirror_mode": {
    "name": "ipython",
    "version": 3
   },
   "file_extension": ".py",
   "mimetype": "text/x-python",
   "name": "python",
   "nbconvert_exporter": "python",
   "pygments_lexer": "ipython3",
   "version": "3.8.5"
  }
 },
 "nbformat": 4,
 "nbformat_minor": 5
}
