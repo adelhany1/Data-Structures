{
 "cells": [
  {
   "cell_type": "markdown",
   "id": "da2865f6",
   "metadata": {},
   "source": [
    "# Hash Tables"
   ]
  },
  {
   "cell_type": "markdown",
   "id": "cedebc0d",
   "metadata": {},
   "source": [
    "- Dictionaries are a built-in hash tables, contains of keys and values\n",
    "- But we will create our own, Fisrt create address space by creating a list and then create methods\n",
    "- methods like: set_item(key, value) ex: set_item('nails' , 1000)\n",
    "- create our own hash that will hash the key('nails') and our key-value pair will be a list: ['nails', 1000] and address\n",
    "- and that hash will produce an address for that key. ex: 2 . and add them to a list\n",
    "- ..\n",
    "- we can i/p to the hash: get_item('nails'). it will come up with 2 and that will tell us the value which is 1000\n",
    "- YOU should have a prime num of addressors, (size=7).. from 0 to 6\n",
    "- Because: the prime num increases the amount of randomness for how the key-value pairs will distributed through the hash table so it reduces the collisions"
   ]
  },
  {
   "cell_type": "markdown",
   "id": "7944f35e",
   "metadata": {},
   "source": [
    "BIG O:\n",
    "- Hash method is O(1) ,, always the same num of operations to calculate the hash\n",
    "- set_item is O(1) ,, appending an item\n",
    "- get_item , worst case scenario if all items put is the same address and would have to iterate through all of them to get the last one (for ex)\n",
    "- But the assumbtion most likely the distribution will be fair, hash method will be efficient at distributing them\n",
    "- So we consider get_item as O(1)"
   ]
  },
  {
   "cell_type": "code",
   "execution_count": 1,
   "id": "6b8e9ac6",
   "metadata": {},
   "outputs": [],
   "source": [
    "class HashTable:\n",
    "    def __init__(self, size = 7):  # constructor, just build this list, default=7\n",
    "        self.data_map = [None] * size\n",
    "      \n",
    "    def __hash(self, key):  #this is the hash method, what we pass in the ket to, to determine the address where we store that key-value pair\n",
    "        my_hash = 0        \n",
    "        for letter in key:\n",
    "            my_hash = (my_hash + ord(letter) * 23) % len(self.data_map)\n",
    "        return my_hash     # will be from 0 to 6, will be the address we use to place the key-value pair in the hash table\n",
    "\n",
    "    def print_table(self):          #print out the hash table\n",
    "        for i, val in enumerate(self.data_map): \n",
    "            print(i, \": \", val)\n",
    "    \n",
    "    def set_item(self, key, value):  # will use the hash method on the key to create the address(4) and put the key-value pair on a list and put them in (4)\n",
    "        index = self.__hash(key)     # compute or get the index (address). ex:4\n",
    "        if self.data_map[index] == None:   # IF that empty list is not already there\n",
    "            self.data_map[index] = []  #initialize empty list in that address to add the key-value list in it (lists inside a list)\n",
    "        self.data_map[index].append([key, value])  # add the key-value pair into that empty list in the address\n",
    "    \n",
    "    def get_item(self, key):       # Get the value from the key through the address (index)\n",
    "        index = self.__hash(key)   # get the address of that key\n",
    "        if self.data_map[index] is not None:   # if there's address and that key is really exist\n",
    "            for i in range(len(self.data_map[index])):   # loop through all key-values in that address\n",
    "                if self.data_map[index][i][0] == key:    # until find the exact key we'r looking for (firt item in the list is the key)\n",
    "                    return self.data_map[index][i][1]    # grap the second item in the list which is the value we want\n",
    "        return None\n",
    "\n",
    "    def keys(self):   # take all of the keys out of the hash table, put them into a list and return that list\n",
    "        all_keys = []\n",
    "        for i in range(len(self.data_map)):  # loop through data map list(addresses)(0 to 6) and see the addresses that has something inside\n",
    "            if self.data_map[i] is not None:  # Only is there's something is the address\n",
    "                for j in range(len(self.data_map[i])):   # loop through the keys in every address (a list) (i)\n",
    "                    all_keys.append(self.data_map[i][j][0])  # as going in the for loops, add these keys to a list\n",
    "        return all_keys"
   ]
  },
  {
   "cell_type": "code",
   "execution_count": 2,
   "id": "a5dcbb8b",
   "metadata": {},
   "outputs": [
    {
     "name": "stdout",
     "output_type": "stream",
     "text": [
      "0 :  None\n",
      "1 :  None\n",
      "2 :  None\n",
      "3 :  None\n",
      "4 :  None\n",
      "5 :  None\n",
      "6 :  None\n"
     ]
    }
   ],
   "source": [
    "# Hash table constructor\n",
    "my_hash_table = HashTable()\n",
    "my_hash_table.print_table()"
   ]
  },
  {
   "cell_type": "code",
   "execution_count": 3,
   "id": "790df857",
   "metadata": {},
   "outputs": [
    {
     "name": "stdout",
     "output_type": "stream",
     "text": [
      "0 :  None\n",
      "1 :  None\n",
      "2 :  None\n",
      "3 :  None\n",
      "4 :  [['bolts', 1400], ['washers', 50]]\n",
      "5 :  None\n",
      "6 :  [['lumber', 70]]\n"
     ]
    }
   ],
   "source": [
    "# Set method\n",
    "my_hash_table = HashTable()\n",
    "\n",
    "my_hash_table.set_item('bolts', 1400)\n",
    "my_hash_table.set_item('washers', 50)\n",
    "my_hash_table.set_item('lumber', 70)\n",
    "my_hash_table.print_table()"
   ]
  },
  {
   "cell_type": "code",
   "execution_count": 4,
   "id": "faa4b5e3",
   "metadata": {},
   "outputs": [
    {
     "name": "stdout",
     "output_type": "stream",
     "text": [
      "['bolts', 'washers', 'lumber']\n"
     ]
    }
   ],
   "source": [
    "my_hash_table = HashTable()\n",
    "\n",
    "my_hash_table.set_item('bolts', 1400)\n",
    "my_hash_table.set_item('washers', 50)\n",
    "my_hash_table.set_item('lumber', 70)\n",
    "\n",
    "print(my_hash_table.keys())"
   ]
  },
  {
   "cell_type": "markdown",
   "id": "800f1ccb",
   "metadata": {},
   "source": [
    "# Interview Question"
   ]
  },
  {
   "cell_type": "markdown",
   "id": "c10d18fa",
   "metadata": {},
   "source": [
    "# 2 lists , do they have item in commen?\n",
    "- will see 2 approach , the second is the best. The first is naiive."
   ]
  },
  {
   "cell_type": "code",
   "execution_count": 5,
   "id": "e27bc1a2",
   "metadata": {},
   "outputs": [
    {
     "name": "stdout",
     "output_type": "stream",
     "text": [
      "False\n"
     ]
    }
   ],
   "source": [
    "# This First approach is O(n2) , Very Bad and inefficient\n",
    "\n",
    "def item_in_common(list1, list2):\n",
    "    for i in list1:\n",
    "        for j in list2:\n",
    "            if i == j:\n",
    "                return True\n",
    "    return False\n",
    "\n",
    "list1 = [1,3,5]\n",
    "list2 = [2,4,6]\n",
    "\n",
    "print(item_in_common(list1, list2))"
   ]
  },
  {
   "cell_type": "code",
   "execution_count": null,
   "id": "d5130561",
   "metadata": {},
   "outputs": [],
   "source": [
    "# Second approach and more efficient , use dic (Hash table)\n",
    "\n",
    "def item_in_common(list1, list2):\n",
    "    my_dict = {}\n",
    "    for i in list1:     # make a dic of all items is the list and put them as a key\n",
    "        my_dict[i] = True  # make tha value for all of them is True , n key-value pairs\n",
    "# loop through first list is O(n)\n",
    "        \n",
    "    for j in list2:   #loop through the second list and compare every item to the dic\n",
    "        if j in my_dict:  # to see if that item is the dict , everytime you look for an item in a dict by the key is O(1)\n",
    "            return True\n",
    "# So we had to go through each list only one time, which we can say is O(2n) (Drop the constant) ..> O(n)\n",
    "#NOT n Square like the first approach\n",
    "    return False\n",
    "\n",
    "\n",
    "list1 = [1,3,5]\n",
    "list2 = [2,4,6]\n",
    "\n",
    "\n",
    "print(item_in_common(list1, list2))\n",
    "\n"
   ]
  }
 ],
 "metadata": {
  "kernelspec": {
   "display_name": "Python 3 (ipykernel)",
   "language": "python",
   "name": "python3"
  },
  "language_info": {
   "codemirror_mode": {
    "name": "ipython",
    "version": 3
   },
   "file_extension": ".py",
   "mimetype": "text/x-python",
   "name": "python",
   "nbconvert_exporter": "python",
   "pygments_lexer": "ipython3",
   "version": "3.8.5"
  }
 },
 "nbformat": 4,
 "nbformat_minor": 5
}
