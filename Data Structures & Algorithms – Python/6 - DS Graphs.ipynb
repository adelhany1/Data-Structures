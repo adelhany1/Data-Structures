{
 "cells": [
  {
   "cell_type": "markdown",
   "id": "eb64dd07",
   "metadata": {},
   "source": [
    "# Graphs"
   ]
  },
  {
   "cell_type": "markdown",
   "id": "0c2de5d9",
   "metadata": {},
   "source": [
    "- node = **vertix**\n",
    "- between 2 verticies we have an **edge** or connection (line)\n",
    "- The edges can be weighted or not weighted\n",
    "- ex: Facebook connection between 2 peaple, it goes both ways. bi-directional relationship\n",
    "- compare this to instagram or twitter, you follow someone doesn't have to follow you back. directional relationship\n",
    "- SO, the edges can be weighted or not weighted. Directional or bi-directional\n",
    "- Tree was an example (form) of the Graph, but each node was only can point to 2 other nodes\n",
    "- And Tree was like LinkedLists\n",
    "- SO LL is a form of a Tree, a Tree is a form of a Graph\n",
    "- So LL is a form of a Graph, with the limitation than can point to one other node"
   ]
  },
  {
   "cell_type": "markdown",
   "id": "5cc3c622",
   "metadata": {},
   "source": [
    "- we can represent a graph using Adjacency matrix or Adjacancy list\n",
    "- **Adjacency matrix** :\n",
    "- A has an edge (connection) with B and E so it will be 1 and doesn't connect with A(can't point to itself), C and D so it'll be 0 .. 1s and 0s to fill the matrix\n",
    "- Matrix: Vertical Axis is the actual vertics and Horizontal Axis is the items it has an edge with\n",
    "- Because A and A is 0 . B and B is 0 and so on .. The 45 degree line will be zeros\n",
    "- If it's a bi-directional matrix, will always have a mirror image on each side of this 45 degree line. ONLY if it's bi-dir"
   ]
  },
  {
   "cell_type": "code",
   "execution_count": 2,
   "id": "86b79802",
   "metadata": {},
   "outputs": [
    {
     "data": {
      "text/plain": [
       "{'A': ['B', 'E'],\n",
       " 'B': ['A', 'C'],\n",
       " 'C': ['B', 'D'],\n",
       " 'D': ['C', 'E'],\n",
       " 'E': ['A', 'D']}"
      ]
     },
     "execution_count": 2,
     "metadata": {},
     "output_type": "execute_result"
    }
   ],
   "source": [
    "#Adjacency List :\n",
    "\n",
    "{\n",
    "    'A':['B' , 'E'],   # A (key) has edges with B and E (values) .. and So on\n",
    "    'B':['A' , 'C'],\n",
    "    'C':['B' , 'D'],\n",
    "    'D':['C' , 'E'],\n",
    "    'E':['A' , 'D']\n",
    "}\n",
    "\n",
    "# it's what we're going to use to create our graphs"
   ]
  },
  {
   "cell_type": "markdown",
   "id": "0ee18acc",
   "metadata": {},
   "source": [
    "# Graph Big O\n",
    "- V: verticies. E: edges\n",
    "- Space complixity: Adjacency matrix: O(|V|square)....   Adjacency list: O(|V| + |E|) \n",
    "- Add vertix: Adjacency matrix: O(|V|square)....   Adjacency list: O(1)\n",
    "- Add edge: Adjacency matrix: O(1)....   Adjacency list: O(1)\n",
    "- Remove edge: Adjacency matrix: O(1)....   Adjacency list: O(|E|) \n",
    "- Remove vertix: Adjacency matrix: O(|V|square)....   Adjacency list: O(|V| + |E|)"
   ]
  },
  {
   "cell_type": "code",
   "execution_count": 3,
   "id": "eee4c79d",
   "metadata": {},
   "outputs": [],
   "source": [
    "class Graph:\n",
    "    def __init__(self):\n",
    "        self.adj_list = {}  #will use adjacent list ,,,,,,, added dict:    {           }\n",
    "\n",
    "    def print_graph(self):\n",
    "        for vertex in self.adj_list:\n",
    "            print(vertex, ':', self.adj_list[vertex])         #    1 : [2] \n",
    "\n",
    "    def add_vertex(self, vertex):               #vertecs here is the key ,,,, added a vertecs in the dict:   'A':[] (empty list)\n",
    "        if vertex not in self.adj_list.keys():  # don't have duplicates\n",
    "            self.adj_list[vertex] = []          # key = empty list\n",
    "            return True\n",
    "        return False\n",
    "\n",
    "    def add_edge(self, v1, v2):   # connect the 2 vertecies v1 and v2 by making an edge between them, we need to add_vertex first\n",
    "        if v1 in self.adj_list.keys() and v2 in self.adj_list.keys():  # if the 2 are keys in the dict (vertecies), if both exist\n",
    "            self.adj_list[v1].append(v2)   # add v2 as a value for v1 (in the list) ,,,, 'v1':[v2]                  \n",
    "            self.adj_list[v2].append(v1)   # add v1 as a value for v2 (in the list) ,,,, 'v2':[v1]\n",
    "            return True\n",
    "        return False   # if either one of them don't exist\n",
    "\n",
    "    def remove_edge(self, v1, v2):  #same idea\n",
    "        if v1 in self.adj_list.keys() and v2 in self.adj_list.keys():\n",
    "            self.adj_list[v1].remove(v2)\n",
    "            self.adj_list[v2].remove(v1)\n",
    "            return True\n",
    "        return False\n",
    "\n",
    "    def remove_vertex(self, vertex):  # we want to delete vertecs D\n",
    "        if vertex in self.adj_list.keys():   #first it has to be exists\n",
    "            for other_vertex in self.adj_list[vertex]:   # other_vertex is ONLY the vertecies that it has a connect(edge) with(B,C,D)... 'D' : ['A','B','C']\n",
    "                self.adj_list[other_vertex].remove(vertex)   # remove the vertics D from the other lists (from other vertecies it has edges with: A,B,C)\n",
    "            del self.adj_list[vertex]    # remove the vertics D itself\n",
    "            return True\n",
    "        return False        "
   ]
  },
  {
   "cell_type": "code",
   "execution_count": 4,
   "id": "de73b0b2",
   "metadata": {},
   "outputs": [
    {
     "name": "stdout",
     "output_type": "stream",
     "text": [
      "A : ['B', 'C']\n",
      "B : ['A']\n",
      "C : ['A']\n"
     ]
    }
   ],
   "source": [
    "my_graph = Graph()\n",
    "my_graph.add_vertex('A')\n",
    "my_graph.add_vertex('B')\n",
    "my_graph.add_vertex('C')\n",
    "my_graph.add_vertex('D')\n",
    "\n",
    "my_graph.add_edge('A','B')\n",
    "my_graph.add_edge('A','C')\n",
    "my_graph.add_edge('A','D')\n",
    "my_graph.add_edge('B','D')\n",
    "my_graph.add_edge('C','D')\n",
    "\n",
    "my_graph.remove_vertex('D')\n",
    "\n",
    "my_graph.print_graph()"
   ]
  },
  {
   "cell_type": "code",
   "execution_count": null,
   "id": "cc897229",
   "metadata": {},
   "outputs": [],
   "source": []
  }
 ],
 "metadata": {
  "kernelspec": {
   "display_name": "Python 3 (ipykernel)",
   "language": "python",
   "name": "python3"
  },
  "language_info": {
   "codemirror_mode": {
    "name": "ipython",
    "version": 3
   },
   "file_extension": ".py",
   "mimetype": "text/x-python",
   "name": "python",
   "nbconvert_exporter": "python",
   "pygments_lexer": "ipython3",
   "version": "3.8.5"
  }
 },
 "nbformat": 4,
 "nbformat_minor": 5
}
