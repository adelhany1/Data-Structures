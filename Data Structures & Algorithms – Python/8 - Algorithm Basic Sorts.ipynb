{
 "cells": [
  {
   "cell_type": "markdown",
   "id": "89b28355",
   "metadata": {},
   "source": [
    "# Basic Sorts"
   ]
  },
  {
   "cell_type": "markdown",
   "id": "c423e257",
   "metadata": {},
   "source": [
    "# 1 - Bubble Sort\n",
    "- [ 4 , 2 , 6 , 5 , 1 , 3 ]\n",
    "- start with first item (4) in the list and compare it to the second item (2)\n",
    "- if the 1st item is larger than 2nd item, will switch them\n",
    "- Take the 2nd item (4) and compare it to the third item (6)\n",
    "- if the 2nd item is less than 3rd item, so don't need to be switch\n",
    "- 3rd (6) with 4th (5) , switch them\n",
    "- 4th (6) with 5th (1) , switch them\n",
    "- 5th (6) with 6th (3) , switch them\n",
    "- NOW we're SURE that largest item (6) is in his place at the end\n",
    "- we did 5 comparisons because we had 6 items\n",
    "- ..\n",
    "- Next round we only has 5 items, so we'll do 4 comparison in order to but the next item (5) in his place\n",
    "- Next we have 4 items left, 3 comparison ...\n",
    "- And so on until we finish (2 items and 1 comparison)\n",
    "- AND now we have a completely sorted list"
   ]
  },
  {
   "cell_type": "code",
   "execution_count": 6,
   "id": "f55c56b1",
   "metadata": {},
   "outputs": [
    {
     "data": {
      "text/plain": [
       "[1, 2, 3, 4, 5, 6]"
      ]
     },
     "execution_count": 6,
     "metadata": {},
     "output_type": "execute_result"
    }
   ],
   "source": [
    "def bubble_sort(my_list):\n",
    "    for i in range(len(my_list) - 1, 0 ,-1):  #if len(my_list)=6.... i = 5 , 4 , 3 , 2 , 1\n",
    "        for j in range(i):     # i=5, (j=0,1,2,3,4) then i=4, j=(0,1,2,3) then i=3 then i=2 then i=1\n",
    "            if my_list[j] > my_list[j+1]:  # if 1st item larger then 2nd\n",
    "                temp = my_list[j]          # temp = 1st item\n",
    "                my_list[j] = my_list[j+1]  # make the 2nd be the 1st  \n",
    "                my_list[j+1] = temp        # make the first (temp) be the second\n",
    "        # repeat the switch until we sort it all\n",
    "    return my_list\n",
    "\n",
    "bubble_sort([4,2,6,5,1,3])"
   ]
  },
  {
   "cell_type": "markdown",
   "id": "4ad123a9",
   "metadata": {},
   "source": [
    "# 2 - Selection Sort\n",
    "- [ 4 , 2 , 6 , 5 , 1 , 3 ]\n",
    "- We also need indexes of the list for Selection Sort:\n",
    " - [ 0 , 1 , 2 , 3 , 4 , 5 ]\n",
    "- look at first item(index=0) we'll keep track of the index with min value\n",
    "- index 0 is the only one we looked at so far, so ... min_index = 0 (so far)\n",
    "- min_index is the index where the min value is(we assume), we store the index not the value\n",
    "- THEN we have a for loop starts at the next item(index 1) and will say:\n",
    " - is this value less than the item at min_index ? if YES, then this index will be stored : min_index = 1\n",
    "- AND just go to index 2: is 6(index2) less than 2(index1) ? NO, so leave it min_index = 1\n",
    "- Go to index 3: is 5(index3) less than 2(index1) ? NO, so leave it min_index = 1\n",
    "- Go to index 4: is 1(index4) less than 2(index1) ? Yes, so make it min_index = 4\n",
    "- We get at the end that min_index = 4\n",
    "- Then switch values between index 0 and 4, then value=1 at index=0 is SORTED\n",
    "- ...\n",
    "- DO it again, store min_index = 1 and compare it to index 2 and to the end ...\n",
    "- Then min_index = 2 and compare it to index 3 and to the end ... and SO ON"
   ]
  },
  {
   "cell_type": "code",
   "execution_count": 10,
   "id": "926f0569",
   "metadata": {},
   "outputs": [
    {
     "data": {
      "text/plain": [
       "[1, 2, 3, 4, 5, 6]"
      ]
     },
     "execution_count": 10,
     "metadata": {},
     "output_type": "execute_result"
    }
   ],
   "source": [
    "def selection_sort(my_list):\n",
    "    for i in range(len(my_list)-1):             # in range 5: 0,1,2,3,4\n",
    "        min_index = i                           # first time: 0 and when we put the smallest item to index 0 , we make it 1 and so on\n",
    "        for j in range(i+1, len(my_list)):      #first time: (1,6) : 1,2,3,4,5\n",
    "            if my_list[j] < my_list[min_index]: # if inedx 1 at my_list is less than index 0\n",
    "                min_index = j                   # make min_index = 1 and go through the loop UNTIL: min_index is smallest item index (3 for example)\n",
    "        if i != min_index:                      # if min_index(0) wasn't already at samllest item and we changed it to it (3)\n",
    "            temp = my_list[i]                   # make the old index (0) = temp\n",
    "            my_list[i] = my_list[min_index]     # put the new min_index(3) (samllest value) to the first place (index 0)\n",
    "            my_list[min_index] = temp           # put temp (value of index 0) to the index of smallest value (3) and with that, the swap is DONE\n",
    "                         # start again with index(1) and do it all again\n",
    "    return my_list\n",
    "\n",
    "selection_sort([4,2,6,5,1,3])"
   ]
  },
  {
   "cell_type": "markdown",
   "id": "91839a26",
   "metadata": {},
   "source": [
    "# 3 - Insertion Sort\n",
    "- [ 4 , 2 , 6 , 5 , 1 , 3 ]\n",
    "- we always start with the second item(2) in the list and compare it to the item before it(4)\n",
    "- if it's less than the item before it, we move it to pass it: [ 2 , 4 , 6 , 5 , 1 , 3 ]\n",
    "- ...\n",
    "- Then go to the next item(3rd=6) and compare to the item before it(2nd=4) Higher, leave them as they are: [ 2 , 4 , 6 , 5 , 1 , 3 ]\n",
    "- Go to (4th=5) and compare it to the item before(6) (less),, compare it to(4) Higher, SO: [ 2 , 4 , 5 , 6 , 1 , 3 ]\n",
    "- Go to (5th=1) with (4th=6)less. Then(3rd=5)less. Then(2nd=4)less. Then(1st=2)less. SO: [ 1 , 2 , 4 , 5 , 6 , 3 ]\n",
    "- Go to (6th=3) with (5th=6)less. Then(4rd=5)less. Then(3rd=4)less. Then(2nd=2)Higher. SO: [ 1 , 2 , 3 , 4 , 5 , 6 ]"
   ]
  },
  {
   "cell_type": "code",
   "execution_count": 29,
   "id": "adad54e8",
   "metadata": {},
   "outputs": [
    {
     "data": {
      "text/plain": [
       "[1, 2, 3, 4, 5, 6]"
      ]
     },
     "execution_count": 29,
     "metadata": {},
     "output_type": "execute_result"
    }
   ],
   "source": [
    "def insertion_sort(my_list):\n",
    "    for i in range(1, len(my_list)):            # 1,6 : 1,2,3,4,5\n",
    "        temp = my_list[i]                       # start with temp = 2nd item (index 1)\n",
    "        j = i-1                                 # j =0\n",
    "        while temp < my_list[j] and j > -1:     # while item < items before it\n",
    "            my_list[j+1] = my_list[j]           # switch the indecies until it becomes larger than the item it faces\n",
    "            my_list[j] = temp\n",
    "            j -= 1                              # when we reach the 1st and j=0, it'll be j=-1 and then will have to stop and take the next value of i\n",
    "    return my_list\n",
    "\n",
    "\n",
    "insertion_sort([4,2,6,5,1,3])"
   ]
  },
  {
   "cell_type": "markdown",
   "id": "c17c480d",
   "metadata": {},
   "source": [
    "# Insertion Sort: Big O\n",
    "- we have a loop in a loop so this is a O(n squares) as a worest possible scenarion\n",
    "- Best possible scenario is when have a sorted or almost sorted data: [1,2,4,3,5,6] and this is O(n)"
   ]
  }
 ],
 "metadata": {
  "kernelspec": {
   "display_name": "Python 3 (ipykernel)",
   "language": "python",
   "name": "python3"
  },
  "language_info": {
   "codemirror_mode": {
    "name": "ipython",
    "version": 3
   },
   "file_extension": ".py",
   "mimetype": "text/x-python",
   "name": "python",
   "nbconvert_exporter": "python",
   "pygments_lexer": "ipython3",
   "version": "3.8.5"
  }
 },
 "nbformat": 4,
 "nbformat_minor": 5
}
