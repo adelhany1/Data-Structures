{
 "cells": [
  {
   "cell_type": "markdown",
   "id": "c0474369",
   "metadata": {},
   "source": [
    "# Merge Sort\n",
    "- The idea is if we have 2 sorted lists and they are both sorted, it's very easy to combine them into a new sorted list\n",
    "- if we have a 8 items unsorted list, what merge sort would do is first: break this list in half, and break it in half again and again\n",
    "- Until we have 8 separate lists with only 1 item in each (only 1 item so it's sorted)\n",
    "- THEN we can take each 2 lists, combine them and create a new sorted one from them and SO ON until we have 4 lists not 8\n",
    "- Then from the 4 lists we make them 2 and then 1 sorted list"
   ]
  },
  {
   "cell_type": "code",
   "execution_count": 2,
   "id": "899f25d1",
   "metadata": {},
   "outputs": [],
   "source": [
    "# merge: helper function, does a portion of what is required for merge sort\n",
    "# take 2 SORTED lists, HAVE to be sorted, take them and puts them into a new compined list \n",
    "# loop through both of them with i(first in list 1) and j(first in list 2)\n",
    "# compare i and j , whichever one is lowest: i(first in 1), will be add to the new combined list\n",
    "# then do it again: compare i(second in 1) with j(first in 2)\n",
    "# if i(second in 1) is lowest then it added to the combined list\n",
    "# compare i(third in 1) with j(first in 2)\n",
    "# if j(first in 2) is lower, add to the list\n",
    "# compare i(third in 1) with j(second in 2) .... and SO ON until one of them is empty\n",
    "# then we have a loop through whichever list still have items and add them in order to the combined list\n",
    "\n",
    "def merge(list1, list2):   # have to be 2 sorted lists\n",
    "    combined = []\n",
    "    i = 0\n",
    "    j = 0\n",
    "    while i < len(list1) and j < len(list2):\n",
    "        if list1[i] < list2[j]:\n",
    "            combined.append(list1[i])\n",
    "            i += 1\n",
    "        else:\n",
    "            combined.append(list2[j])\n",
    "            j += 1\n",
    "    # complete first step and one of the 2 lists is finished, NOW have to add the rest of the other list to the compind\n",
    "    \n",
    "    while i < len(list1):  # if the second list is finished and still values in the first\n",
    "        combined.append(list1[i])\n",
    "        i += 1\n",
    "\n",
    "    while j < len(list2):  # if the first list is finished and still values in the second\n",
    "        combined.append(list2[j])\n",
    "        j += 1\n",
    "\n",
    "    return combined"
   ]
  },
  {
   "cell_type": "code",
   "execution_count": 11,
   "id": "a5602107",
   "metadata": {},
   "outputs": [
    {
     "data": {
      "text/plain": [
       "[1, 2, 2, 3, 4, 5, 6, 7, 8]"
      ]
     },
     "execution_count": 11,
     "metadata": {},
     "output_type": "execute_result"
    }
   ],
   "source": [
    "merge([1,2,7,8], [3,4,5,6])"
   ]
  },
  {
   "cell_type": "code",
   "execution_count": 13,
   "id": "b011238e",
   "metadata": {},
   "outputs": [
    {
     "data": {
      "text/plain": [
       "[1, 2, 2, 3, 3, 4, 5, 6, 7, 8]"
      ]
     },
     "execution_count": 13,
     "metadata": {},
     "output_type": "execute_result"
    }
   ],
   "source": [
    "merge([1,2,7,8], [2,3,3,4,5,6])"
   ]
  },
  {
   "cell_type": "markdown",
   "id": "e16c71c9",
   "metadata": {},
   "source": [
    "# Merge Sort\n",
    "- Take a list and break it in half and then each one and break it in half until 1 each list is value\n",
    "- ONLY THEN, take that helper function(merge) and combine each 2 (sorted lists) and do it again and again until 1 sorted list\n",
    "- SO:\n",
    " 1. Break lists on half over and over (use recursion)\n",
    " 2. Until we reach a Base Case when: len(the_list) is 1 so stop breaking\n",
    " 3. Use merge() from the above to put lists together"
   ]
  },
  {
   "cell_type": "code",
   "execution_count": 15,
   "id": "4a42e85f",
   "metadata": {},
   "outputs": [],
   "source": [
    "def merge(array1, array2):   # merge function from the above\n",
    "    combined = []\n",
    "    i = 0\n",
    "    j = 0\n",
    "    while i < len(array1) and j < len(array2):\n",
    "        if array1[i] < array2[j]:\n",
    "            combined.append(array1[i])\n",
    "            i += 1\n",
    "        else:\n",
    "            combined.append(array2[j])\n",
    "            j += 1\n",
    "              \n",
    "    while i < len(array1):\n",
    "        combined.append(array1[i])\n",
    "        i += 1\n",
    "\n",
    "    while j < len(array2):\n",
    "        combined.append(array2[j])\n",
    "        j += 1\n",
    "\n",
    "    return combined\n",
    "\n",
    "\n",
    "def merge_sort(my_list):  # enter the list we want to sort it\n",
    "    if len(my_list) == 1:\n",
    "        return my_list\n",
    "    mid = int(len(my_list)/2)\n",
    "    left = my_list[:mid]\n",
    "    right = my_list[mid:]\n",
    "    return merge(merge_sort(left), merge_sort(right))  # inside it you do merge_sort() again and again UNTIL len = 1\n",
    "# and when len=1 it will return it and do merge to them "
   ]
  },
  {
   "cell_type": "code",
   "execution_count": 17,
   "id": "d8dc241f",
   "metadata": {},
   "outputs": [
    {
     "data": {
      "text/plain": [
       "[1, 2, 3, 4, 5, 6, 7]"
      ]
     },
     "execution_count": 17,
     "metadata": {},
     "output_type": "execute_result"
    }
   ],
   "source": [
    "merge_sort([6,3,1,7,4,2,5])"
   ]
  },
  {
   "cell_type": "markdown",
   "id": "b6dbab2c",
   "metadata": {},
   "source": [
    "# Merge Sort: Big O\n",
    "- O(n) for space complexity\n",
    "- for time complexity: O(log(n)) to breaking the list apart and O(n) to putting it back together (loop through each item with merge fun) = O(n log(n))\n",
    "- O(n log(n)) is more efficient than O(n square)(insertion sort) "
   ]
  },
  {
   "cell_type": "code",
   "execution_count": null,
   "id": "810e2e6d",
   "metadata": {},
   "outputs": [],
   "source": []
  }
 ],
 "metadata": {
  "kernelspec": {
   "display_name": "Python 3 (ipykernel)",
   "language": "python",
   "name": "python3"
  },
  "language_info": {
   "codemirror_mode": {
    "name": "ipython",
    "version": 3
   },
   "file_extension": ".py",
   "mimetype": "text/x-python",
   "name": "python",
   "nbconvert_exporter": "python",
   "pygments_lexer": "ipython3",
   "version": "3.8.5"
  }
 },
 "nbformat": 4,
 "nbformat_minor": 5
}
