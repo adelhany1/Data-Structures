{
 "cells": [
  {
   "cell_type": "markdown",
   "id": "d2b32e66",
   "metadata": {},
   "source": [
    "Given an array of integers, write a function to move all 0's to the end while maintaining the relative order of the other elements\n",
    "\n",
    "Example :\n",
    "- 0 1 0 3 1 2\n",
    "\n",
    "Expected Output :\n",
    "- 1 3 1 2 0 0"
   ]
  },
  {
   "cell_type": "markdown",
   "id": "9bd42b83",
   "metadata": {},
   "source": [
    "# Big(O)\n",
    "- **Time Complexity : 0(2*N) = O(N)**  (linear algorithm)\n",
    "   - We do 2 separate loops over the input array\n",
    "- **Space Complexity : 0(1)**\n",
    "   - We didn't implement any additional DataStructures to contain anything, we modified the array inplace with the help of single pointer"
   ]
  },
  {
   "cell_type": "code",
   "execution_count": 6,
   "id": "f3bd94f9",
   "metadata": {},
   "outputs": [],
   "source": [
    "class Solution:\n",
    "    def moveZeroes(self , nums):\n",
    "        j = 0\n",
    "        for num in nums:                # move all the non-zeros to the first with the same order\n",
    "            if(num != 0):\n",
    "                nums[j] = num\n",
    "                j += 1\n",
    "        for x in range(j, len(nums)):   # after j values (4). j=4, the rest are all zeros\n",
    "            nums[x] = 0\n",
    "        return nums"
   ]
  },
  {
   "cell_type": "code",
   "execution_count": 7,
   "id": "53bef0d2",
   "metadata": {},
   "outputs": [
    {
     "data": {
      "text/plain": [
       "[1, 3, 1, 2, 0, 0]"
      ]
     },
     "execution_count": 7,
     "metadata": {},
     "output_type": "execute_result"
    }
   ],
   "source": [
    "a= [0, 1, 0, 3, 1, 2]\n",
    "sol = Solution()\n",
    "sol.moveZeroes(a)"
   ]
  },
  {
   "cell_type": "markdown",
   "id": "c1f97469",
   "metadata": {},
   "source": [
    "*****************************************************"
   ]
  },
  {
   "cell_type": "code",
   "execution_count": 8,
   "id": "02fd9032",
   "metadata": {},
   "outputs": [],
   "source": [
    "# Another way, python 3\n",
    "from typing import List\n",
    "class Sol:\n",
    "    def moveZeroes(self , nums: List[int]):\n",
    "        j = 0\n",
    "        for num in nums:                # move all the non-zeros to the first with the same order\n",
    "            if(num != 0):\n",
    "                nums[j] = num\n",
    "                j += 1\n",
    "        for x in range(j, len(nums)):   # after j values they are all zeros\n",
    "            nums[x] = 0\n",
    "        return nums  # OR print(nums)"
   ]
  },
  {
   "cell_type": "code",
   "execution_count": 9,
   "id": "b524cc45",
   "metadata": {},
   "outputs": [
    {
     "data": {
      "text/plain": [
       "[1, 3, 1, 2, 0, 0]"
      ]
     },
     "execution_count": 9,
     "metadata": {},
     "output_type": "execute_result"
    }
   ],
   "source": [
    "a= [0, 1, 0, 3, 1, 2]\n",
    "s = Sol()\n",
    "s.moveZeroes(a)"
   ]
  },
  {
   "cell_type": "markdown",
   "id": "ebacb706",
   "metadata": {},
   "source": [
    "***********************************"
   ]
  },
  {
   "cell_type": "code",
   "execution_count": 10,
   "id": "e5d4f2d4",
   "metadata": {},
   "outputs": [],
   "source": [
    "class solution():\n",
    "  def movezeros(self, list):\n",
    "    j=0\n",
    "    for i in list :\n",
    "      if(i!=0):\n",
    "        list[j]=i\n",
    "        j+=1\n",
    "    for x in range(j , len(list) ):\n",
    "      list[x] =0\n",
    "    return list"
   ]
  },
  {
   "cell_type": "code",
   "execution_count": 11,
   "id": "a6889c04",
   "metadata": {},
   "outputs": [
    {
     "data": {
      "text/plain": [
       "[1, 8, 5, 6, 3, 8, 8, 9, 6, 4, 0, 0, 0, 0, 0]"
      ]
     },
     "execution_count": 11,
     "metadata": {},
     "output_type": "execute_result"
    }
   ],
   "source": [
    "s=solution()\n",
    "s.movezeros([1,0,8,5,6,3,8,0,8,0,0,0,9,6,4])"
   ]
  },
  {
   "cell_type": "code",
   "execution_count": null,
   "id": "18ab6207",
   "metadata": {},
   "outputs": [],
   "source": []
  }
 ],
 "metadata": {
  "kernelspec": {
   "display_name": "Python 3 (ipykernel)",
   "language": "python",
   "name": "python3"
  },
  "language_info": {
   "codemirror_mode": {
    "name": "ipython",
    "version": 3
   },
   "file_extension": ".py",
   "mimetype": "text/x-python",
   "name": "python",
   "nbconvert_exporter": "python",
   "pygments_lexer": "ipython3",
   "version": "3.8.5"
  }
 },
 "nbformat": 4,
 "nbformat_minor": 5
}
