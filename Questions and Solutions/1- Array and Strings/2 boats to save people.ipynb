{
 "cells": [
  {
   "cell_type": "markdown",
   "id": "f63f66e5",
   "metadata": {},
   "source": [
    "- You are trying to add people in safety boats\n",
    "- Given an array people and an integer called limit\n",
    "- people array is an array of people's weights, i-th person has a weight people[i] and each boat can carry at most limit\n",
    "- Each boat carries at most 2 people at the same time, Given that their weight sum is at most limit.\n",
    "- WANT TO Return the minimum number of boats to carry every given person\n",
    "- ....\n",
    "- The maximum no.of people a boat can carry is 2\n",
    "- Every individual person has a weight lower than or equal to limit\n",
    "- worst case scenario is that it would take as many boats as there are people, everyone needs a boat alone"
   ]
  },
  {
   "cell_type": "markdown",
   "id": "e763a2fa",
   "metadata": {},
   "source": [
    "ex : What is the minimum number of boats to carry every person ?\n",
    "- People : [ 1 2 ]\n",
    "- Limit (weight) : 3\n",
    "- Ans : 1  .. But how? ,, 1 boat carries 1st and 2nd person"
   ]
  },
  {
   "cell_type": "markdown",
   "id": "03ce1338",
   "metadata": {},
   "source": [
    "ex : What is the minimum number of boats to carry every person ?\n",
    "- People : [ 3 2 2 1 ]\n",
    "- Limit : 3\n",
    "- Ans : 3\n",
    "- 1 boats carries first person (weight=3 , will be alone)\n",
    "- 1 boat carries second person and last person\n",
    "- 1 boat carries third person"
   ]
  },
  {
   "cell_type": "markdown",
   "id": "2b6786b1",
   "metadata": {},
   "source": [
    "- We want to maximize the no.of pairs of people whose weights can be added together in the same boat ( sum of weights is lower than limit )\n",
    "- 1 - sort the array\n",
    "- 2 - attempt to add the heaviest and lightest person in the same boat.\n",
    "     - What will we use to match the heaviest and lightest available people ?\n",
    "- Initialize 2 pointers, left at the beginning of the array(lightest) and right and the end of the array(heaviest), as well as initializing the boats_number to 0\n",
    "- left = 0;\n",
    "- right = people.length - 1;\n",
    "- boats_number = 0\n",
    "- Loop as long as the right pointer is bigger than or equal to the left pointer\n",
    "- while( left <= right ){ }\n",
    "- When the left and right pointer are equal(both pointing at the same person)(will need a boat alone because he is the only one left), increment the no.of boats needed (+1) and break from the loop\n",
    "- If weights of people at left and right pointers are lower than or equal to the limit, move left pointer to the right, move right pointer to the left, and increment no.of boats needed\n",
    "- If weights of people at left and right pointers are bigger than the limit, move right pointer to the left, and increment no.of boats needed (add the heaviest in a boat by himself)\n",
    "- "
   ]
  },
  {
   "cell_type": "markdown",
   "id": "8bb3c9f9",
   "metadata": {},
   "source": [
    "# Big (O)\n",
    "- **Time Complexity : O(N Log(N))**, because we sort our array, Most efficient sorting alogorithm (merge-quick sort) is nlog(n)\n",
    "   - This is due to the fact that we sort the input array => O(N LOG(N))\n",
    "   - Looping over the sorted array happens in O(N) time\n",
    "- when analysing Big(O) we ignore lower terms, so will take: O(N LOG(N)) (worst operation)\n",
    "- ...\n",
    "- **Space Complexity : O(N)**\n",
    "- people.sort() internally uses an algorithm that has O(N) space complexity\n",
    "- SORTING algorithm uses O(n) space"
   ]
  },
  {
   "cell_type": "markdown",
   "id": "ffe8c938",
   "metadata": {},
   "source": []
  },
  {
   "cell_type": "code",
   "execution_count": 11,
   "id": "04257391",
   "metadata": {},
   "outputs": [],
   "source": [
    "from typing import List\n",
    "class Solution:\n",
    "    def numRescueBoats(self, people: List[int], limit: int) -> int:\n",
    "        people.sort()           # 1\n",
    "        left = 0               #index\n",
    "        right = len(people)-1  #index\n",
    "        boats_number = 0\n",
    "        while(left<=right):\n",
    "            \n",
    "            if(people[left]+people[right]<=limit):   # maximum 2 people at 1 boat\n",
    "                left+=1\n",
    "                \n",
    "            if(left==right):       # if (when) both pointers pointing at the same person\n",
    "                boats_number+=1    # put him in a boat by himself (he is the only one left) and that's it (break from the loop) \n",
    "                break\n",
    "            \n",
    "            right-=1\n",
    "            boats_number+=1\n",
    "        return boats_number"
   ]
  },
  {
   "cell_type": "code",
   "execution_count": 12,
   "id": "629d2c88",
   "metadata": {},
   "outputs": [
    {
     "data": {
      "text/plain": [
       "3"
      ]
     },
     "execution_count": 12,
     "metadata": {},
     "output_type": "execute_result"
    }
   ],
   "source": [
    "A = [1,2,2,3]    # No one can weight more than 3 because then no boat can carry him :D \n",
    "B = 3\n",
    "c = Solution()\n",
    "c.numRescueBoats(A,B)"
   ]
  },
  {
   "cell_type": "code",
   "execution_count": 13,
   "id": "9db462a5",
   "metadata": {},
   "outputs": [
    {
     "data": {
      "text/plain": [
       "5"
      ]
     },
     "execution_count": 13,
     "metadata": {},
     "output_type": "execute_result"
    }
   ],
   "source": [
    "E = [1,2,2,3,3,2]\n",
    "B = 3\n",
    "c.numRescueBoats(E,B)"
   ]
  },
  {
   "cell_type": "markdown",
   "id": "e5dea9f4",
   "metadata": {},
   "source": [
    "*************************************"
   ]
  },
  {
   "cell_type": "code",
   "execution_count": 14,
   "id": "37fe8a92",
   "metadata": {},
   "outputs": [],
   "source": [
    "class Solution:\n",
    "    def numRescueBoats(self, people, limit):\n",
    "        people.sort()           # 1\n",
    "        left = 0               #index\n",
    "        right = len(people)-1  #index\n",
    "        boats_number = 0\n",
    "        while(left<=right):\n",
    "            \n",
    "            if(people[left]+people[right]<=limit):   # maximum 2 people at 1 boat\n",
    "                left+=1\n",
    "                \n",
    "            if(left==right):       # if (when) both pointers pointing at the same person\n",
    "                boats_number+=1    # put him in a boat by himself (he is the only one left) and that's it (break from the loop) \n",
    "                break\n",
    "            \n",
    "            right-=1\n",
    "            boats_number+=1\n",
    "        return boats_number"
   ]
  },
  {
   "cell_type": "code",
   "execution_count": 15,
   "id": "c1f5c8b7",
   "metadata": {},
   "outputs": [
    {
     "data": {
      "text/plain": [
       "3"
      ]
     },
     "execution_count": 15,
     "metadata": {},
     "output_type": "execute_result"
    }
   ],
   "source": [
    "A = [1,2,2,3]    # No one can weight more than 3 because then no boat can carry him :D \n",
    "B = 3\n",
    "c = Solution()\n",
    "c.numRescueBoats(A,B)"
   ]
  },
  {
   "cell_type": "code",
   "execution_count": null,
   "id": "a67a6df1",
   "metadata": {},
   "outputs": [],
   "source": []
  }
 ],
 "metadata": {
  "kernelspec": {
   "display_name": "Python 3 (ipykernel)",
   "language": "python",
   "name": "python3"
  },
  "language_info": {
   "codemirror_mode": {
    "name": "ipython",
    "version": 3
   },
   "file_extension": ".py",
   "mimetype": "text/x-python",
   "name": "python",
   "nbconvert_exporter": "python",
   "pygments_lexer": "ipython3",
   "version": "3.8.5"
  }
 },
 "nbformat": 4,
 "nbformat_minor": 5
}
