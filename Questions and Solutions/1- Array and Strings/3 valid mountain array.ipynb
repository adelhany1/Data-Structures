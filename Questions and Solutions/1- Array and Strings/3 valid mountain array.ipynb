{
 "cells": [
  {
   "cell_type": "markdown",
   "id": "729cacc0",
   "metadata": {},
   "source": [
    "- Given an array of integers, return true if the following conditions are fulfilled:\n",
    " - Length of the array is bigger than or equal to 3 \n",
    " - There exists some index i such that :  (in the half)\n",
    "   - a[0] <a[1] < ... < a[i]               .. increasing from beginning to i\n",
    "   - a[i] > a[i +1] > ... > a[a.size -1]   .. decreasing from i to the end\n",
    " - Nutshell : Find if there is an increasing subarray followed by a decreasing subarray\n",
    " - ex: [3,5,5] : False (Not a valid mountain array)\n",
    " - ex: [0,3,2,1]: True"
   ]
  },
  {
   "cell_type": "markdown",
   "id": "54811281",
   "metadata": {},
   "source": [
    "Steps:\n",
    "- initialize a loop index starting from 1 .. i= 1;\n",
    "- Loop over array starting from loop index as long as it's increasing\n",
    "- if loop index didn't move(didn't have an increasing sequence) or reached array end(all of it are increasing) , we return false\n",
    "- Loop over array starting from the loop index as long as the array is decreasing\n",
    "- If loop index is at end of the array, return true\n",
    "- ..\n",
    "- ex: A =[ 0 2 3 4 5 2 1 ] : True\n",
    "- ex: A =[ 0 2 3 4 5 5 2 1 ] : False"
   ]
  },
  {
   "cell_type": "code",
   "execution_count": 4,
   "id": "a3e4f148",
   "metadata": {},
   "outputs": [],
   "source": [
    "class Solution:\n",
    "    def validMountainArray(self, A):\n",
    "        if(len(A)<3):\n",
    "            return False\n",
    "        i = 1\n",
    "        while(i < len(A) and A[i] > A[i-1]):    # while current element is bigger than the previous element (increasing sequence)\n",
    "            i+=1\n",
    "        if(i==1 or i==len(A)): #if we are still at first or reached to the end of the array, if i=1 means that first element is bigger than the second\n",
    "            return False\n",
    "        while(i < len(A) and A[i] < A[i-1]):  # Now we are decreasing\n",
    "            i+=1\n",
    "        return i==len(A)  # if we reached here: i==len(A) then it decreases till the end and return True"
   ]
  },
  {
   "cell_type": "code",
   "execution_count": 5,
   "id": "f258708a",
   "metadata": {},
   "outputs": [
    {
     "data": {
      "text/plain": [
       "True"
      ]
     },
     "execution_count": 5,
     "metadata": {},
     "output_type": "execute_result"
    }
   ],
   "source": [
    "A =[ 0, 2, 3, 4, 5, 2, 1 ]\n",
    "s= Solution()\n",
    "s.validMountainArray(A)"
   ]
  },
  {
   "cell_type": "code",
   "execution_count": 7,
   "id": "0d8a8746",
   "metadata": {},
   "outputs": [
    {
     "data": {
      "text/plain": [
       "False"
      ]
     },
     "execution_count": 7,
     "metadata": {},
     "output_type": "execute_result"
    }
   ],
   "source": [
    "A =[ 0, 2, 3, 4, 5, 5, 2, 1 ]\n",
    "s= Solution()\n",
    "s.validMountainArray(A)"
   ]
  },
  {
   "cell_type": "code",
   "execution_count": null,
   "id": "cfb9a8cb",
   "metadata": {},
   "outputs": [],
   "source": []
  }
 ],
 "metadata": {
  "kernelspec": {
   "display_name": "Python 3 (ipykernel)",
   "language": "python",
   "name": "python3"
  },
  "language_info": {
   "codemirror_mode": {
    "name": "ipython",
    "version": 3
   },
   "file_extension": ".py",
   "mimetype": "text/x-python",
   "name": "python",
   "nbconvert_exporter": "python",
   "pygments_lexer": "ipython3",
   "version": "3.8.5"
  }
 },
 "nbformat": 4,
 "nbformat_minor": 5
}
