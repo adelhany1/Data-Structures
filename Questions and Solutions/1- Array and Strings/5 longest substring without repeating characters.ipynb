{
 "cells": [
  {
   "cell_type": "markdown",
   "id": "a513ffcd",
   "metadata": {},
   "source": [
    "- Given a string, find the length of the longest substring without repeating characters (contains NO dublicates)\n",
    "- Example :\n",
    "- Input : abcabcbb\n",
    "- Output: 3\n",
    "   - No chars repeat in abc and there is no bigger string that contains no repeating char\n",
    "- HOW TO SOLVE THIS? Using Sliding Window Technique\n",
    "- Steps : \n",
    "- Initialize our 2 pointers, left and right, both at 0\n",
    "  - the 2 pointers will eventually contain the start and end position of the answer substring\n",
    "- Create an empty map, say we'll call it m\n",
    "  - m will be have a key-value pair of : < character, position >\n",
    "  - character: character in the string. position: last position of that character in the string\n",
    "- Do a loop that will go on as long as left and right are smaller than length of the input string, loop will contain following logic:\n",
    "  - Check if the element at the right pointer, call it el, exist in our map.\n",
    "    - that means that we've seen that element before\n",
    "    - We can't omit the current character at the right pointer\n",
    "  - if it exists: set left pointer to the maximum between the current left pointer and the value of el in the map (m[el]) plus one"
   ]
  },
  {
   "cell_type": "code",
   "execution_count": null,
   "id": "573249ad",
   "metadata": {},
   "outputs": [],
   "source": []
  },
  {
   "cell_type": "code",
   "execution_count": 9,
   "id": "0b8956e0",
   "metadata": {},
   "outputs": [],
   "source": [
    "class Solution:\n",
    "    def lengthOfLongestSubstring(self, s: str) -> int:\n",
    "        m = {}\n",
    "        left = 0\n",
    "        right = 0\n",
    "        ans = 0\n",
    "        n = len(s)\n",
    "        while(left<n and right<n):\n",
    "            el = s[right]\n",
    "            if(el in m):\n",
    "                left = max(left , m[el]+1) # m[el] has the last position of the current element in the dict m, (last place that a exists in it)\n",
    "                                           # by adding +1 we are moving the left pointer to the next possible starting position\n",
    "            m[el] = right  # add to the dic. key/value\n",
    "            ans = max(ans , right-left+1) #see if the current window(ans) has a bigger length than the previous one\n",
    "            right+=1   # move the right pointer a step to the right\n",
    "        return ans , m        # retuning m is not required"
   ]
  },
  {
   "cell_type": "code",
   "execution_count": 14,
   "id": "5f1e5deb",
   "metadata": {},
   "outputs": [
    {
     "data": {
      "text/plain": [
       "(1, {'a': 1})"
      ]
     },
     "execution_count": 14,
     "metadata": {},
     "output_type": "execute_result"
    }
   ],
   "source": [
    "a='aa'\n",
    "n = Solution()\n",
    "n.lengthOfLongestSubstring(a)"
   ]
  },
  {
   "cell_type": "code",
   "execution_count": 15,
   "id": "661542bb",
   "metadata": {},
   "outputs": [
    {
     "data": {
      "text/plain": [
       "(3, {'a': 5, 'b': 1, 'c': 4, 'd': 6})"
      ]
     },
     "execution_count": 15,
     "metadata": {},
     "output_type": "execute_result"
    }
   ],
   "source": [
    "a= 'abaacad'\n",
    "n = Solution()\n",
    "n.lengthOfLongestSubstring(a)"
   ]
  },
  {
   "cell_type": "code",
   "execution_count": 5,
   "id": "4a90cb8a",
   "metadata": {},
   "outputs": [],
   "source": [
    "class Solutionn:\n",
    "    def lengthOfLongestSubstring(self, s):\n",
    "        m = {}\n",
    "        left = 0\n",
    "        right = 0\n",
    "        ans = 0\n",
    "        n = len(s)\n",
    "        while(left<n and right<n):\n",
    "            el = s[right]\n",
    "            if(el in m):\n",
    "                left = max(left , m[el]+1) # m[el] has the last position of the current element,\n",
    "                                          #by adding +1 we are moving the left pointer to the next possible starting position\n",
    "            m[el] = right\n",
    "            ans = max(ans , right-left+1) #see if the current window(ans) has a bigger length than the previous one\n",
    "            right+=1   # move the right pointer a step to the right\n",
    "        return ans"
   ]
  },
  {
   "cell_type": "code",
   "execution_count": 8,
   "id": "614e370f",
   "metadata": {},
   "outputs": [
    {
     "data": {
      "text/plain": [
       "3"
      ]
     },
     "execution_count": 8,
     "metadata": {},
     "output_type": "execute_result"
    }
   ],
   "source": [
    "a= 'abaacad'\n",
    "n = Solutionn()\n",
    "n.lengthOfLongestSubstring(a)"
   ]
  },
  {
   "cell_type": "markdown",
   "id": "986f4735",
   "metadata": {},
   "source": [
    "- Time Complexity : 0(N). We do a loop over our array, loop of size N (the length)\n",
    "- Space Complexity : O(N). Due to creating an external map"
   ]
  },
  {
   "cell_type": "code",
   "execution_count": null,
   "id": "6a52b3b0",
   "metadata": {},
   "outputs": [],
   "source": []
  }
 ],
 "metadata": {
  "kernelspec": {
   "display_name": "Python 3 (ipykernel)",
   "language": "python",
   "name": "python3"
  },
  "language_info": {
   "codemirror_mode": {
    "name": "ipython",
    "version": 3
   },
   "file_extension": ".py",
   "mimetype": "text/x-python",
   "name": "python",
   "nbconvert_exporter": "python",
   "pygments_lexer": "ipython3",
   "version": "3.8.5"
  }
 },
 "nbformat": 4,
 "nbformat_minor": 5
}
