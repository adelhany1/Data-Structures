{
 "cells": [
  {
   "cell_type": "markdown",
   "id": "ffc3578a",
   "metadata": {},
   "source": [
    "- Given an array of integers nums sorted in ascending order\n",
    "- Find the starting and ending position of a given target value.\n",
    "- Tips:\n",
    "- Array is sorted --> Think binary search\n",
    "- We want to find 2 separate things, first and last position, we will focus on one thing at a time\n",
    "- ex: 10,11,11,11,14,15 .. Target:11 .. The positions are 1 and 3\n",
    "- ....\n",
    "- Focus first on finding the first ... \n",
    "- initialize 2 pointers(right and left). start and end of the array\n",
    "- a loop that goes on as long as the left pointer is smaller than or equal the right pointer .. at the end will be pointing to one position (final loop)\n",
    "- Get the middle position of between left and right = ()\n",
    "- SEE if the middle element is the same as the target, we need to verify, is it the first occurance of that element.. how?\n",
    "- if mid is our target .. \n",
    "   - ( mid == 0 || nums[mid-1] != target ) , conditions to return mid as our target (first position)\n",
    "     - mid == 0 --> means that mid is first number (item) in the array\n",
    "     - nums[mid-1] != target --> means that the elements before the mid is not equal to our target (will be smaller) because it's sorted\n",
    "  - else (nums[mid-1] = target) --> will set the right to mid-1 and do it again (equal to the target too but may be the first or not)\n",
    "- else if (mid is not the target & target is lower than the mid) we'll just set the right to mid-1 and search for the target before the mid\n",
    "- else if (mid is not the target & target is higher than the mid) we'll just set the left to mid+1 and search for the target after the mid"
   ]
  },
  {
   "cell_type": "markdown",
   "id": "d0bd837a",
   "metadata": {},
   "source": [
    "Finding the Last position\n",
    "- initialize 2 pointers(right and left). start and end of the array\n",
    "- a loop that goes on as long as the left pointer is smaller than or equal the right pointer .. at the end will be pointing to one position (final loop)\n",
    "- Get the middle position of between left and right = ()\n",
    "- SEE if the middle element is the same as the target, we need to verify, is it the Last occurance of that element.. how?\n",
    "- if mid is our target ..\n",
    "  - ( mid == len(nums)-1 || nums[mid+1] != target ) , onditions to return mid as our target (last position)\n",
    "    - mid == len(nums)-1 --> means that mid is last number (item) in the array\n",
    "    - nums[mid+1] != target --> means that the elements after the mid is not equal to our target (will be greater) because it's sorted\n",
    "  - else (nums[mid+1] = target) --> will set the left to mid+1 and do it again (equal to the target too but may be the last or not)\n",
    "- else if (mid is not the target & target is lower than the mid) we'll just set the right to mid-1 and search for the target before the mid\n",
    "- else if (mid is not the target & target is higher than the mid) we'll just set the left to mid+1 and search for the target after the mid"
   ]
  },
  {
   "cell_type": "code",
   "execution_count": null,
   "id": "2b21f4ea",
   "metadata": {},
   "outputs": [],
   "source": []
  },
  {
   "cell_type": "code",
   "execution_count": 1,
   "id": "3619bb38",
   "metadata": {},
   "outputs": [],
   "source": [
    "from typing import List\n",
    "class Solution:\n",
    "    def getLeftPosition(self, nums, target):\n",
    "        left = 0\n",
    "        right = len(nums)-1\n",
    "        while(left <= right):\n",
    "            mid = left + (right-left)//2           # \" (left + right)/2 \" may cause the Integer Overflow, meaning that left+right > 2147483647\n",
    "            if(nums[mid] == target):\n",
    "                if(mid-1 >= 0 and nums[mid-1] != target or mid == 0):     # at the very end,, one of these must happen to return the target\n",
    "                    return mid                                            # return the index of the first and get out of the loop\n",
    "                right = mid-1\n",
    "            elif(nums[mid] > target):\n",
    "                right = mid-1\n",
    "            else:\n",
    "                left = mid+1\n",
    "        return -1                                                 # if the target is not exist in the array \n",
    "\n",
    "    def getRightPosition(self, nums, target):\n",
    "        left = 0\n",
    "        right = len(nums)-1\n",
    "\n",
    "        while(left <= right):\n",
    "            mid = left+(right-left)//2\n",
    "            if(nums[mid] == target):\n",
    "                if(mid+1 < len(nums) and nums[mid+1] != target or mid == len(nums)-1):\n",
    "                    return mid\n",
    "                left = mid+1\n",
    "            elif(nums[mid] > target):\n",
    "                right = mid-1\n",
    "            else:\n",
    "                left = mid+1\n",
    "\n",
    "        return -1             # if the target is not exist in the array \n",
    "\n",
    "    def searchRange(self, nums: List[int], target: int) -> List[int]:\n",
    "        left = self.getLeftPosition(nums, target)\n",
    "        right = self.getRightPosition(nums, target)\n",
    "\n",
    "        return [left, right]\n"
   ]
  },
  {
   "cell_type": "code",
   "execution_count": 4,
   "id": "7ff4e2d2",
   "metadata": {},
   "outputs": [
    {
     "data": {
      "text/plain": [
       "4"
      ]
     },
     "execution_count": 4,
     "metadata": {},
     "output_type": "execute_result"
    }
   ],
   "source": [
    "a=[10,11,11,11,14,15]\n",
    "l=Solution()\n",
    "l.getLeftPosition(a,14)"
   ]
  },
  {
   "cell_type": "markdown",
   "id": "22e48db0",
   "metadata": {},
   "source": [
    "Time complexity is O(log(N)), the search is binary search ,,, for the first and last occurance\n",
    "Space complexity: O(1) , constant, dont create any additional memory to find our answer, just 2 of pointers"
   ]
  },
  {
   "cell_type": "code",
   "execution_count": null,
   "id": "291bd7ee",
   "metadata": {},
   "outputs": [],
   "source": []
  }
 ],
 "metadata": {
  "kernelspec": {
   "display_name": "Python 3 (ipykernel)",
   "language": "python",
   "name": "python3"
  },
  "language_info": {
   "codemirror_mode": {
    "name": "ipython",
    "version": 3
   },
   "file_extension": ".py",
   "mimetype": "text/x-python",
   "name": "python",
   "nbconvert_exporter": "python",
   "pygments_lexer": "ipython3",
   "version": "3.8.5"
  }
 },
 "nbformat": 4,
 "nbformat_minor": 5
}
