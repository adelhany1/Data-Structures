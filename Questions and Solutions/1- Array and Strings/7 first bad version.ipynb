{
 "cells": [
  {
   "cell_type": "markdown",
   "id": "de49a1dd",
   "metadata": {},
   "source": [
    "- Give a number N that represent amount of version and a function that accepts a number and returns whether it's a bad version or not , Find the first bad version of the array\n",
    "- Note: if a version is bad, all versions after it are bad too, what is built on bad will also be bad\n",
    "- We want the first bad version\n",
    "- Steps: \n",
    "- Create 2 pointers, start and end, start at 1 and end at N\n",
    "- Find the mid between the 2 pointers\n",
    "  - If mid is not a bad version, set start to (mid +1) and end at N\n",
    "  - If mid is a bad version, set end to mid (all after it are bad) and start at 1\n",
    "- Until Start = End .. will break from the loop and this will be the first bad version\n",
    "  "
   ]
  },
  {
   "cell_type": "code",
   "execution_count": 1,
   "id": "eb9d2c72",
   "metadata": {},
   "outputs": [],
   "source": [
    "# The isBadVersion API is already defined for you.\n",
    "# @param version, an integer\n",
    "# @return a bool\n",
    "# def isBadVersion(version):\n",
    "class Solution:\n",
    "    def firstBadVersion(self, n):\n",
    "        left = 1\n",
    "        right = n\n",
    "\n",
    "        while(left < right):\n",
    "            mid = left+(right-left)//2         # ' (left + right)/2 ' may cause the Integer Overflow, meaning that left+right > 2147483647\n",
    "            if not isBadVersion(mid):\n",
    "                left = mid+1\n",
    "            else:\n",
    "                right = mid\n",
    "        return left\n"
   ]
  },
  {
   "cell_type": "code",
   "execution_count": null,
   "id": "0c0af220",
   "metadata": {},
   "outputs": [],
   "source": []
  },
  {
   "cell_type": "code",
   "execution_count": null,
   "id": "ec9aa5eb",
   "metadata": {},
   "outputs": [],
   "source": []
  }
 ],
 "metadata": {
  "kernelspec": {
   "display_name": "Python 3 (ipykernel)",
   "language": "python",
   "name": "python3"
  },
  "language_info": {
   "codemirror_mode": {
    "name": "ipython",
    "version": 3
   },
   "file_extension": ".py",
   "mimetype": "text/x-python",
   "name": "python",
   "nbconvert_exporter": "python",
   "pygments_lexer": "ipython3",
   "version": "3.8.5"
  }
 },
 "nbformat": 4,
 "nbformat_minor": 5
}
