{
 "cells": [
  {
   "cell_type": "markdown",
   "id": "4140e274",
   "metadata": {},
   "source": [
    "- Given a non-empty array of integers, every element appears twice except for one, find it\n",
    "- mathematical formula: 2*(a+b+c) - (a+a+b+b+c) = c\n",
    "- a+b+c : Suymmation of the unique elements\n",
    "- (a+a+b+b+c) : summation of the all elements that you have\n",
    "- "
   ]
  },
  {
   "cell_type": "code",
   "execution_count": 4,
   "id": "d0fe9a2f",
   "metadata": {},
   "outputs": [
    {
     "data": {
      "text/plain": [
       "{1, 2, 3, 4, 5, 6, 7, 8}"
      ]
     },
     "execution_count": 4,
     "metadata": {},
     "output_type": "execute_result"
    }
   ],
   "source": [
    "# set() method is used to convert any of the iterable to sequence of iterable elements with distinct elements\n",
    "\n",
    "a = [2,2,1,8,8,8,2,4,5,6,7,2,1,4,5,3]\n",
    "set(a)"
   ]
  },
  {
   "cell_type": "code",
   "execution_count": 1,
   "id": "1e6b082e",
   "metadata": {},
   "outputs": [],
   "source": [
    "class Solution(object):\n",
    "    def singleNumber(self, nums):\n",
    "        \"\"\"\n",
    "        :type nums: List[int]\n",
    "        :rtype: int\n",
    "        \"\"\"\n",
    "        return 2*sum(set(nums)) - sum(nums)"
   ]
  },
  {
   "cell_type": "code",
   "execution_count": 5,
   "id": "6eda0e64",
   "metadata": {},
   "outputs": [
    {
     "data": {
      "text/plain": [
       "4"
      ]
     },
     "execution_count": 5,
     "metadata": {},
     "output_type": "execute_result"
    }
   ],
   "source": [
    "a = [2,2,1,1,5,4,5]\n",
    "b=Solution()\n",
    "b.singleNumber(a)"
   ]
  },
  {
   "cell_type": "code",
   "execution_count": null,
   "id": "0ba800f5",
   "metadata": {},
   "outputs": [],
   "source": []
  }
 ],
 "metadata": {
  "kernelspec": {
   "display_name": "Python 3 (ipykernel)",
   "language": "python",
   "name": "python3"
  },
  "language_info": {
   "codemirror_mode": {
    "name": "ipython",
    "version": 3
   },
   "file_extension": ".py",
   "mimetype": "text/x-python",
   "name": "python",
   "nbconvert_exporter": "python",
   "pygments_lexer": "ipython3",
   "version": "3.8.5"
  }
 },
 "nbformat": 4,
 "nbformat_minor": 5
}
