{
 "cells": [
  {
   "cell_type": "markdown",
   "id": "54f9a23b",
   "metadata": {},
   "source": [
    "- Imagine a robot standing at position (0,0) , in a 2D grid, given a string consisting of its moves, find the final location of the robot\n",
    "- U: up\n",
    "- D : down\n",
    "- R : right\n",
    "- L : left\n",
    "- "
   ]
  },
  {
   "cell_type": "code",
   "execution_count": 20,
   "id": "af5f1727",
   "metadata": {},
   "outputs": [],
   "source": [
    "# see if we returned back to our initial position (origin)\n",
    "class Solution:\n",
    "    def judgeCircle(self, moves: str) -> bool:  \n",
    "        x = 0\n",
    "        y = 0\n",
    "        for move in moves:\n",
    "            if(move=='U'):\n",
    "                y+=1\n",
    "            elif(move=='R'):\n",
    "                x+=1\n",
    "            elif(move=='D'):\n",
    "                y-=1\n",
    "            elif(move=='L'):\n",
    "                x-=1\n",
    "        return x==0 and y==0"
   ]
  },
  {
   "cell_type": "code",
   "execution_count": 21,
   "id": "eb458fab",
   "metadata": {},
   "outputs": [
    {
     "data": {
      "text/plain": [
       "False"
      ]
     },
     "execution_count": 21,
     "metadata": {},
     "output_type": "execute_result"
    }
   ],
   "source": [
    "moves = \"UDDDRR\"\n",
    "a = Solution()\n",
    "a.judgeCircle(moves)"
   ]
  },
  {
   "cell_type": "code",
   "execution_count": 22,
   "id": "8fbd1f3d",
   "metadata": {},
   "outputs": [
    {
     "data": {
      "text/plain": [
       "True"
      ]
     },
     "execution_count": 22,
     "metadata": {},
     "output_type": "execute_result"
    }
   ],
   "source": [
    "moves = \"UUUDDDRRLL\"\n",
    "a = Solution()\n",
    "a.judgeCircle(moves)"
   ]
  },
  {
   "cell_type": "markdown",
   "id": "b0a7fd74",
   "metadata": {},
   "source": [
    "*****************************************"
   ]
  },
  {
   "cell_type": "code",
   "execution_count": 23,
   "id": "5a4e5713",
   "metadata": {},
   "outputs": [],
   "source": [
    "# The current location\n",
    "class Solution:\n",
    "    def judgeCircle(self, moves: str) -> bool:  \n",
    "        x = 0\n",
    "        y = 0\n",
    "        for move in moves:\n",
    "            if(move=='U'):\n",
    "                y+=1\n",
    "            elif(move=='R'):\n",
    "                x+=1\n",
    "            elif(move=='D'):\n",
    "                y-=1\n",
    "            elif(move=='L'):\n",
    "                x-=1\n",
    "        return x , y"
   ]
  },
  {
   "cell_type": "code",
   "execution_count": 24,
   "id": "54de7e5b",
   "metadata": {},
   "outputs": [
    {
     "data": {
      "text/plain": [
       "(2, -2)"
      ]
     },
     "execution_count": 24,
     "metadata": {},
     "output_type": "execute_result"
    }
   ],
   "source": [
    "moves = \"UDDDRR\"\n",
    "a = Solution()\n",
    "a.judgeCircle(moves)"
   ]
  },
  {
   "cell_type": "code",
   "execution_count": 15,
   "id": "b543b48d",
   "metadata": {},
   "outputs": [],
   "source": []
  },
  {
   "cell_type": "code",
   "execution_count": null,
   "id": "f682d096",
   "metadata": {},
   "outputs": [],
   "source": []
  }
 ],
 "metadata": {
  "kernelspec": {
   "display_name": "Python 3 (ipykernel)",
   "language": "python",
   "name": "python3"
  },
  "language_info": {
   "codemirror_mode": {
    "name": "ipython",
    "version": 3
   },
   "file_extension": ".py",
   "mimetype": "text/x-python",
   "name": "python",
   "nbconvert_exporter": "python",
   "pygments_lexer": "ipython3",
   "version": "3.8.5"
  }
 },
 "nbformat": 4,
 "nbformat_minor": 5
}
