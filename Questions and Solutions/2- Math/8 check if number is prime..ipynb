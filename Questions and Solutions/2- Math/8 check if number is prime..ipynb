{
 "cells": [
  {
   "cell_type": "code",
   "execution_count": 1,
   "id": "e7a04d41",
   "metadata": {},
   "outputs": [],
   "source": [
    "import math\n",
    "import os\n",
    "import random\n",
    "import re\n",
    "import sys"
   ]
  },
  {
   "cell_type": "markdown",
   "id": "2663a343",
   "metadata": {},
   "source": [
    "- A prime num: greater than 1 , Non-divisible by anything except 1 and itself\n",
    "- Prime numbers are numbers that have only 2 factors: 1 and themselves. For example, the first 5 prime numbers are 2, 3, 5, 7, and 11. By contrast, numbers with more than 2 factors are call composite numbers\n",
    "- Prime numbers from 1 to 100 are 2, 3, 5, 7, 11, 13, 17, 19, 23, 29, 31, 37, 41, 43, 47, 53, 59, 61, 67, 71, 73, 79, 83, 89, 97"
   ]
  },
  {
   "cell_type": "code",
   "execution_count": 2,
   "id": "9ee65f33",
   "metadata": {},
   "outputs": [],
   "source": [
    "def primechecker(arr):\n",
    "  for num in arr:\n",
    "    if num > 1:\n",
    "      for i in range(2 , int(num**0.5) + 1):\n",
    "        if(num % i) == 0:\n",
    "          print(num , \"is not prime\")\n",
    "          break\n",
    "      else:\n",
    "        print(num , \"is prime\")\n",
    "    else:\n",
    "        print(num , \"is not prime(1)\")"
   ]
  },
  {
   "cell_type": "code",
   "execution_count": 3,
   "id": "73466225",
   "metadata": {},
   "outputs": [
    {
     "name": "stdout",
     "output_type": "stream",
     "text": [
      "4\n",
      "1\n",
      "4\n",
      "2\n",
      "3\n",
      "1 is not prime(1)\n",
      "4 is not prime\n",
      "2 is prime\n",
      "3 is prime\n"
     ]
    }
   ],
   "source": [
    "n = int(input().strip())  #strip just remove spaces if any\n",
    "arr = []\n",
    "for _ in range(n):\n",
    "    arr.append(int(input()))\n",
    "primechecker(arr)\n",
    "# First i/p is the number of numbers you want to check"
   ]
  },
  {
   "cell_type": "code",
   "execution_count": 4,
   "id": "88100901",
   "metadata": {},
   "outputs": [
    {
     "name": "stdout",
     "output_type": "stream",
     "text": [
      "1\n",
      "1\n",
      "1 is not prime(1)\n"
     ]
    }
   ],
   "source": [
    "if __name__ == '__main__':\n",
    "  n = int(input().strip())  #strip just remove spaces if any\n",
    "  arr = []\n",
    "  for _ in range(n):\n",
    "    arr.append(int(input()))\n",
    "  primechecker(arr)\n",
    "# First i/p is the number of numbers you want to check"
   ]
  },
  {
   "cell_type": "code",
   "execution_count": null,
   "id": "58b179c2",
   "metadata": {},
   "outputs": [],
   "source": []
  }
 ],
 "metadata": {
  "kernelspec": {
   "display_name": "Python 3 (ipykernel)",
   "language": "python",
   "name": "python3"
  },
  "language_info": {
   "codemirror_mode": {
    "name": "ipython",
    "version": 3
   },
   "file_extension": ".py",
   "mimetype": "text/x-python",
   "name": "python",
   "nbconvert_exporter": "python",
   "pygments_lexer": "ipython3",
   "version": "3.8.5"
  }
 },
 "nbformat": 4,
 "nbformat_minor": 5
}
