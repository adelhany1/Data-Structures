{
 "cells": [
  {
   "cell_type": "markdown",
   "id": "46e7080b",
   "metadata": {},
   "source": [
    "- Given an array containing n distinct numbers taken from 0,1,2,..n\n",
    "- Find the missing number in the array\n",
    "- Input: [5,3,0,1,7,4,6] , O/P: 2\n",
    "- ..\n",
    "# Idea\n",
    "- We can sort the input array then see which element is not in it's place clearly\n",
    "- If current element is bigger than the previous element by more than 1 , the missing number is: the_current_element-1\n",
    "- Time complexity of the most popular sorting algorithms (qick sort - merge sort) is O(N(log(N))) , Not optimal, Not the best thing"
   ]
  },
  {
   "cell_type": "markdown",
   "id": "d9e5cd49",
   "metadata": {},
   "source": [
    "- Another way is to use hashmaps\n",
    "- loop over the array, set current element as true in the map\n",
    "- loop from 0 to n , check if current element is not set to true in the hashmap, if it's not (means that element is not present in the input array), THEN we found our element\n",
    "- This solution has time complexity of O(N) , better but also consume extra space because we creating a map"
   ]
  },
  {
   "cell_type": "markdown",
   "id": "3ab98ccd",
   "metadata": {},
   "source": [
    "- There's a Solution that has a time complexity of O(N) , but consume NO extra space\n",
    "- Gauss Formula: Sum of all elements from 0 to n is = n*(n+1)/2\n",
    "- 1+2+3+...+n = n*(n+1)/2\n",
    "- Steps :\n",
    "- (Gauss Formula) Find the intented sum up to N (Where N is the length of the given array) using gauss formula. (sum of the array if it contains the missing num)\n",
    "- Find the actual sum of element that we have (existing sum)\n",
    "- Substract the existing sum from the Intented sum\n",
    "- That's it\n",
    "- Time complexity: O(N) : we pass over the input array (loop)\n",
    "- Space complexity: O(1) : didn't create any additional data structures to hold any data. Just 2 variables (currentSum, intendedSum)"
   ]
  },
  {
   "cell_type": "code",
   "execution_count": 4,
   "id": "00e75769",
   "metadata": {},
   "outputs": [],
   "source": [
    "from typing import List\n",
    "class Solution:\n",
    "    def missingNumber(self, nums: List[int]) -> int:\n",
    "        currentSum = sum(nums)\n",
    "        n = len(nums)\n",
    "        intendedSum = n*(n+1)/2\n",
    "\n",
    "        return int(intendedSum-currentSum)"
   ]
  },
  {
   "cell_type": "code",
   "execution_count": 5,
   "id": "addc3235",
   "metadata": {},
   "outputs": [
    {
     "data": {
      "text/plain": [
       "2"
      ]
     },
     "execution_count": 5,
     "metadata": {},
     "output_type": "execute_result"
    }
   ],
   "source": [
    "a= [5,3,0,1,7,4,6]\n",
    "l=Solution()\n",
    "l.missingNumber(a)"
   ]
  },
  {
   "cell_type": "code",
   "execution_count": null,
   "id": "70f4f2c0",
   "metadata": {},
   "outputs": [],
   "source": []
  }
 ],
 "metadata": {
  "kernelspec": {
   "display_name": "Python 3 (ipykernel)",
   "language": "python",
   "name": "python3"
  },
  "language_info": {
   "codemirror_mode": {
    "name": "ipython",
    "version": 3
   },
   "file_extension": ".py",
   "mimetype": "text/x-python",
   "name": "python",
   "nbconvert_exporter": "python",
   "pygments_lexer": "ipython3",
   "version": "3.8.5"
  }
 },
 "nbformat": 4,
 "nbformat_minor": 5
}
