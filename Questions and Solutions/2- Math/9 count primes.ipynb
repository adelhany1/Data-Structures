{
 "cells": [
  {
   "cell_type": "markdown",
   "id": "76568b0d",
   "metadata": {},
   "source": [
    "- Count the number of prime numbers less than a non-negative given number N\n",
    "- A prime num: greater than 1 , Non-divisible by anything except 1 and itself\n",
    "- Prime numbers are numbers that have only 2 factors: 1 and themselves. For example, the first 5 prime numbers are 2, 3, 5, 7, and 11. By contrast, numbers with more than 2 factors are call composite numbers\n",
    "- Prime numbers from 1 to 100 are 2, 3, 5, 7, 11, 13, 17, 19, 23, 29, 31, 37, 41, 43, 47, 53, 59, 61, 67, 71, 73, 79, 83, 89, 97\n",
    "- we'll use a famous algorithm called:\n",
    "# Sieve of Eratosthenes\n",
    "- Steps:\n",
    "- Define a boolean array of size n and set all elements to True except 0 and 1 : \n",
    "- isPrime= [False,False,True,True,True, ...] .. initialy consider all elements to be prime except 0,1\n",
    "- loop as i from 2 till sqrt(N):\n",
    "- Then if the current num is a prime num (True)(2,3,..), then we know that all of its multiples cant be prime (Non-divisible) \n",
    "  - loop over the multiples and set them to false\n",
    "  - return the sum of the elements that set to true (number of true values)\n",
    "- if the current num is not a prime num make it false and continue with the loop"
   ]
  },
  {
   "cell_type": "code",
   "execution_count": 1,
   "id": "8e4858b6",
   "metadata": {},
   "outputs": [],
   "source": [
    "class Solution:\n",
    "    def countPrimes(self, n: int) -> int:\n",
    "        if n<2:\n",
    "            return 0\n",
    "        isPrime = [True]*n   # set all the elements to True\n",
    "        isPrime[0] = isPrime[1] = False  # except 0 and 1\n",
    "        \n",
    "        for i in range(2 , math.ceil(math.sqrt(n))):          # sqrt(n) and if it is (1.1 , 1.2 , 1.5 , 1.7) will return 2 because of ceil\n",
    "            if isPrime[i]:           # if it is True do that loop ,,  if it's false Don't (3 is true , 4 is aleady became false, 5 is true, 6 is aleady became false ...)\n",
    "                for multiples_of_i in range(i*i , n , i):     # start from i*i (9), end at n (50), step i (3)  ,,, all multiplies of 3 \n",
    "                    isPrime[multiples_of_i] = False           # make all these multiplies false\n",
    "        return sum(isPrime)"
   ]
  },
  {
   "cell_type": "code",
   "execution_count": 3,
   "id": "425f6fb2",
   "metadata": {},
   "outputs": [
    {
     "data": {
      "text/plain": [
       "15"
      ]
     },
     "execution_count": 3,
     "metadata": {},
     "output_type": "execute_result"
    }
   ],
   "source": [
    "import math\n",
    "n=50\n",
    "a=Solution()\n",
    "a.countPrimes(n)"
   ]
  },
  {
   "cell_type": "code",
   "execution_count": null,
   "id": "a3455b51",
   "metadata": {},
   "outputs": [],
   "source": []
  }
 ],
 "metadata": {
  "kernelspec": {
   "display_name": "Python 3 (ipykernel)",
   "language": "python",
   "name": "python3"
  },
  "language_info": {
   "codemirror_mode": {
    "name": "ipython",
    "version": 3
   },
   "file_extension": ".py",
   "mimetype": "text/x-python",
   "name": "python",
   "nbconvert_exporter": "python",
   "pygments_lexer": "ipython3",
   "version": "3.8.5"
  }
 },
 "nbformat": 4,
 "nbformat_minor": 5
}
