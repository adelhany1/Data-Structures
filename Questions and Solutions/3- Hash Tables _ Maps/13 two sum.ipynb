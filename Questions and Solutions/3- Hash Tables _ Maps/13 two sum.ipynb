{
 "cells": [
  {
   "cell_type": "markdown",
   "id": "9e43ea12",
   "metadata": {},
   "source": [
    "- Given an array of integers and an integer target\n",
    "- return indices of 2 numbers in the array that add up to the target number\n",
    "- Use Maps! (dict)\n",
    "- keys: element\n",
    "- Values: index\n",
    "- x+y=target\n",
    "- we know the target, and suppose y is the current number\n",
    "- x=target-y\n",
    "- if we have seen x before that means we found our 2 elements"
   ]
  },
  {
   "cell_type": "code",
   "execution_count": 11,
   "id": "17689e7c",
   "metadata": {},
   "outputs": [],
   "source": [
    "class Solution:\n",
    "    def twoSum(self, nums, target): # nums is a list of numbers\n",
    "        m = {}   # dict\n",
    "        n = len(nums)\n",
    "        for i in range(0,n):\n",
    "            goal = target - nums[i]\n",
    "            if(goal in m):\n",
    "                return [m[goal], i]  # return the 2 indicies\n",
    "            m[nums[i]] = i  # add the value and its index to the dict"
   ]
  },
  {
   "cell_type": "code",
   "execution_count": 16,
   "id": "03419355",
   "metadata": {
    "scrolled": true
   },
   "outputs": [
    {
     "data": {
      "text/plain": [
       "[0, 1]"
      ]
     },
     "execution_count": 16,
     "metadata": {},
     "output_type": "execute_result"
    }
   ],
   "source": [
    "a = Solution()\n",
    "b = a.twoSum([1,2,3,4] , 3)\n",
    "b"
   ]
  },
  {
   "cell_type": "code",
   "execution_count": null,
   "id": "6db96e0a",
   "metadata": {},
   "outputs": [],
   "source": []
  },
  {
   "cell_type": "code",
   "execution_count": null,
   "id": "d13c2034",
   "metadata": {},
   "outputs": [],
   "source": []
  },
  {
   "cell_type": "code",
   "execution_count": null,
   "id": "e09f0f76",
   "metadata": {},
   "outputs": [],
   "source": [
    "class Solution:\n",
    "    def twoSum(self, nums: List[int], target: int) -> List[int]:\n",
    "        m = {}  \n",
    "        n = len(nums)\n",
    "        for i in range(0,n):\n",
    "            goal = target - nums[i]\n",
    "            if(goal in m):\n",
    "                return [m[goal], i]\n",
    "            m[nums[i]] = i"
   ]
  }
 ],
 "metadata": {
  "kernelspec": {
   "display_name": "Python 3 (ipykernel)",
   "language": "python",
   "name": "python3"
  },
  "language_info": {
   "codemirror_mode": {
    "name": "ipython",
    "version": 3
   },
   "file_extension": ".py",
   "mimetype": "text/x-python",
   "name": "python",
   "nbconvert_exporter": "python",
   "pygments_lexer": "ipython3",
   "version": "3.9.15"
  }
 },
 "nbformat": 4,
 "nbformat_minor": 5
}
