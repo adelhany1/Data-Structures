{
 "cells": [
  {
   "cell_type": "markdown",
   "id": "a05d5dc6",
   "metadata": {},
   "source": [
    "- Given an array of integers find if the array contains duplicates.\n",
    "- return true if any value appears at least twice in the array, otherwise it should return false\n",
    "\n",
    "Method 1: \n",
    "- Sort the array \n",
    "- Pass over the array once \n",
    "- If 2 consecutive elements are the same, return true\n",
    "\n",
    "Method 2: , good way\n",
    "- Add all elements in a set , set is a DS that only keeps one instance of each element, by default doesn't allow for duplicates\n",
    "- compare size of the set to the array size \n",
    "- If sizes are the same, return true\n",
    "\n",
    "Method 3:  , we will use here\n",
    "- We'll utilize hash maps\n"
   ]
  },
  {
   "cell_type": "code",
   "execution_count": null,
   "id": "7d2f3fb0",
   "metadata": {},
   "outputs": [],
   "source": []
  },
  {
   "cell_type": "code",
   "execution_count": null,
   "id": "9405641f",
   "metadata": {},
   "outputs": [],
   "source": [
    "from collections import defaultdict\n",
    "\n",
    "class Solution:\n",
    "    def containsDuplicate(self, nums):\n",
    "        m = defaultdict(int)\n",
    "\n",
    "        for num in nums:  # if the map contains our current element\n",
    "            if m[num]:    # if that element already exist\n",
    "                return True\n",
    "            m[num]+=1   # if not, store the fact that we have seen that value\n",
    "        return False"
   ]
  },
  {
   "cell_type": "markdown",
   "id": "05fe6864",
   "metadata": {},
   "source": [
    "Time Complexity : 0(N)\n",
    "\n",
    "Space Complexity : O( N )"
   ]
  },
  {
   "cell_type": "code",
   "execution_count": null,
   "id": "4b7388f6",
   "metadata": {},
   "outputs": [],
   "source": []
  },
  {
   "cell_type": "code",
   "execution_count": null,
   "id": "24a12816",
   "metadata": {},
   "outputs": [],
   "source": []
  },
  {
   "cell_type": "code",
   "execution_count": null,
   "id": "f8fc3b92",
   "metadata": {},
   "outputs": [],
   "source": [
    "from collections import defaultdict\n",
    "\n",
    "class Solution:\n",
    "    def containsDuplicate(self, nums: List[int]) -> bool:\n",
    "        m = defaultdict(int)\n",
    "\n",
    "        for num in nums:\n",
    "            if m[num]:\n",
    "                return True\n",
    "            m[num]+=1\n",
    "        return False"
   ]
  }
 ],
 "metadata": {
  "kernelspec": {
   "display_name": "Python 3 (ipykernel)",
   "language": "python",
   "name": "python3"
  },
  "language_info": {
   "codemirror_mode": {
    "name": "ipython",
    "version": 3
   },
   "file_extension": ".py",
   "mimetype": "text/x-python",
   "name": "python",
   "nbconvert_exporter": "python",
   "pygments_lexer": "ipython3",
   "version": "3.9.15"
  }
 },
 "nbformat": 4,
 "nbformat_minor": 5
}
