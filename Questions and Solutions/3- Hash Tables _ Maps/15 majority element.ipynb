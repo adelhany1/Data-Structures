{
 "cells": [
  {
   "cell_type": "markdown",
   "id": "8fbdc732",
   "metadata": {},
   "source": [
    "- Given an array of integers of size N, find the majority element of the array\n",
    "- A majority element appears more than n/2 times. (n is the array size)\n",
    "- Use map where keys are the elements and the values are the occurance count\n",
    "- Steps : \n",
    "- Create a map, loop over the input array and for each element, increment it's number of occurence in the map\n",
    "- Loop over input array, check if current element occured more than n/2 using the map\n",
    "- ..\n",
    "- Time Complexity : 0(2* N) = O(N) \n",
    "   - We do a pass to assign values in the map \n",
    "   - We do a seperate pass to find majority element in the map\n",
    "   \n",
    "- Space Complexity : 0(N)\n",
    "   - We create a map that holds the input array elements along side the no.of occurrence of each element"
   ]
  },
  {
   "cell_type": "code",
   "execution_count": null,
   "id": "086caaa4",
   "metadata": {},
   "outputs": [],
   "source": [
    "class Solution:\n",
    "    def majorityElement(self, nums):\n",
    "        m = {}\n",
    "        for num in nums:\n",
    "            m[num] = m.get(num,0) + 1 # get the current value of num, if not exist make it 0 and then add 1\n",
    "                                      # increase num of occurances of that value by 1\n",
    "        for num in nums:\n",
    "            if(m[num]>len(nums)//2):\n",
    "                return num"
   ]
  },
  {
   "cell_type": "code",
   "execution_count": null,
   "id": "d47232c9",
   "metadata": {},
   "outputs": [],
   "source": []
  },
  {
   "cell_type": "code",
   "execution_count": null,
   "id": "c7872461",
   "metadata": {},
   "outputs": [],
   "source": []
  },
  {
   "cell_type": "code",
   "execution_count": null,
   "id": "51630ea0",
   "metadata": {},
   "outputs": [],
   "source": [
    "class Solution:\n",
    "    def majorityElement(self, nums: List[int]) -> int:\n",
    "        m = {}\n",
    "        for num in nums:\n",
    "            m[num] = m.get(num,0)+1\n",
    "        for num in nums:\n",
    "            if(m[num]>len(nums)//2):\n",
    "                return num"
   ]
  }
 ],
 "metadata": {
  "kernelspec": {
   "display_name": "Python 3 (ipykernel)",
   "language": "python",
   "name": "python3"
  },
  "language_info": {
   "codemirror_mode": {
    "name": "ipython",
    "version": 3
   },
   "file_extension": ".py",
   "mimetype": "text/x-python",
   "name": "python",
   "nbconvert_exporter": "python",
   "pygments_lexer": "ipython3",
   "version": "3.8.5"
  }
 },
 "nbformat": 4,
 "nbformat_minor": 5
}
