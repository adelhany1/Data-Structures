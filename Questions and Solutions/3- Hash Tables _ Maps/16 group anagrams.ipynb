{
 "cells": [
  {
   "cell_type": "markdown",
   "id": "7b6daf65",
   "metadata": {},
   "source": [
    "- Given an array of strings, group anagrams together.\n",
    "- An anagram is a word formed by re-arranging the letters of a different word\n",
    "- Example : [\"eat\", \"tea\", \"tan\", \"ate\", \"nat\", \"bat\"] \n",
    "- Output: [ [\"ate\",\"eat\",\"tea\"], [\"nat\",\"tan\"], [\"bat\"] ]\n",
    "- bat is not a anagram\n",
    "- ..\n",
    "- 1. Create a hashmap of pair <string,array>\n",
    "- 2. loop over our strings\n",
    "- 3. find the sorted version of current string, we'll call that value \"hashed\" a,b,c,d,...\n",
    "- 4. append the current string to the array of hashed in our map\n",
    "- 5. loop over our map values, append current array to our answer"
   ]
  },
  {
   "cell_type": "code",
   "execution_count": 1,
   "id": "dcda855d",
   "metadata": {},
   "outputs": [],
   "source": [
    "class Solution:\n",
    "    def findHash(self,s):\n",
    "        return ''.join(sorted(s))  # sorted version of the string\n",
    "    def groupAnagrams(self, strs):\n",
    "        answers = []\n",
    "        m = {}  # group anagrams\n",
    "        for s in strs:\n",
    "            hashed = self.findHash(s)  # string that in common with all the anagrams of our current string, hashed is the sorted version of s\n",
    "            if(hashed not in m):     \n",
    "                m[hashed] = []   # when we append the current string for first time has to be list\n",
    "            m[hashed].append(s)\n",
    "        for p in m.values():   # over the values\n",
    "            answers.append(p)  # append the current array that we are on\n",
    "        return answers"
   ]
  },
  {
   "cell_type": "code",
   "execution_count": 3,
   "id": "1c327907",
   "metadata": {},
   "outputs": [
    {
     "name": "stdout",
     "output_type": "stream",
     "text": [
      "[['tan', 'ant'], ['cat', 'act']]\n"
     ]
    }
   ],
   "source": [
    "s= Solution()\n",
    "answer = s.groupAnagrams([\"tan\",\"ant\",\"cat\",\"act\"])\n",
    "print(answer)\n",
    "\n",
    "# [\"tan\",\"ant\",\"cat\",\"act\"] \n",
    "\n",
    "# [\"tan\",\"ant\"], [\"cat\", \"act\") 1"
   ]
  },
  {
   "cell_type": "markdown",
   "id": "869543c6",
   "metadata": {},
   "source": [
    "Time Complexity : 0(N * M * Log(M) ) \n",
    "- N : length of the input array \n",
    "- M : length of biggest string in the array \n",
    "- M * Log(M) is due to the fact that we sort each string when we pass over it in the loop\n",
    "\n",
    "\n",
    "Space Complexity : 0(N) \n",
    "- Due to the hashmap we create to store our data"
   ]
  },
  {
   "cell_type": "code",
   "execution_count": null,
   "id": "fa31da70",
   "metadata": {},
   "outputs": [],
   "source": []
  },
  {
   "cell_type": "code",
   "execution_count": null,
   "id": "1ca65911",
   "metadata": {},
   "outputs": [],
   "source": [
    "class Solution:\n",
    "    def findHash(self,s):\n",
    "        return ''.join(sorted(s))\n",
    "    def groupAnagrams(self, strs: List[str]) -> List[List[str]]:\n",
    "        answers = []\n",
    "        m = {}\n",
    "\n",
    "        for s in strs:\n",
    "            hashed = self.findHash(s)\n",
    "            if(hashed not in m):\n",
    "                m[hashed] = []\n",
    "            m[hashed].append(s)\n",
    "        \n",
    "        for p in m.values():\n",
    "            answers.append(p)\n",
    "        \n",
    "        return answers"
   ]
  }
 ],
 "metadata": {
  "kernelspec": {
   "display_name": "Python 3 (ipykernel)",
   "language": "python",
   "name": "python3"
  },
  "language_info": {
   "codemirror_mode": {
    "name": "ipython",
    "version": 3
   },
   "file_extension": ".py",
   "mimetype": "text/x-python",
   "name": "python",
   "nbconvert_exporter": "python",
   "pygments_lexer": "ipython3",
   "version": "3.8.5"
  }
 },
 "nbformat": 4,
 "nbformat_minor": 5
}
