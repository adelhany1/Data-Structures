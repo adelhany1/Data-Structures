{
 "cells": [
  {
   "cell_type": "markdown",
   "id": "a1f4edc2",
   "metadata": {},
   "source": [
    "- Given four lists A, B, C, D of integer values\n",
    "- compute how many tuples (i, j, k, l) there are such that A[i] + B[j] + C[k] + D[l] is zero.\n",
    "- we only cares about counting num of elements at this positions i,j,k and l: (A[i] + B[j] + C[k] + D[l]) is equal to 0 , what does that mean?\n",
    "- we actually want to count the num of opposite pairs:\n",
    "- If A[i] + B[j] is equal to x ,, then C[k] + D[l] should be equal to -x\n",
    "- ..\n",
    "- Find pair of numbers that sum up to some number x in arrays A and B\n",
    "- Find pair of numbers in the other 2 arrays that sum up to -x in arrays C and D\n",
    "- We will use Maps!\n",
    "- The keys pairs summation at A and B , while the value will be no. of occurance of that summation\n",
    "- ..\n",
    "- Steps: part 1\n",
    "- 1- loop over the array A\n",
    "- 2- For each element in A , find the sum between it and each element in B\n",
    "- 3- Increment the no. of occurance of that sum in the map\n",
    "- ,,\n",
    "- ..- Steps: part 2 (opposite of part 1)\n",
    "- 1- loop over the array C\n",
    "- 2- For each element in C , find the sum between it and each element in D\n",
    "- 3- Find the Target that we are looking for (-x)\n",
    "- 4- Increment the no. of occurance of our target in our map"
   ]
  },
  {
   "cell_type": "code",
   "execution_count": 2,
   "id": "a258c971",
   "metadata": {},
   "outputs": [],
   "source": [
    "class Solution:\n",
    "    def fourSumCount(self, A, B, C, D):\n",
    "      m = {}\n",
    "      ans = 0\n",
    "      for i in range(0,len(A)):\n",
    "        x = A[i]\n",
    "        for j in range(0,len(B)):\n",
    "          y = B[j]\n",
    "          if(x+y not in m):\n",
    "            m[x+y] = 0\n",
    "          m[x+y]+=1\n",
    "      for i in range(0,len(C)):\n",
    "        x = C[i]\n",
    "        for j in range(0,len(D)):\n",
    "          y = D[j]\n",
    "          target = -(x+y)\n",
    "          if(target in m):\n",
    "            ans+=m[target]\n",
    "      return ans"
   ]
  },
  {
   "cell_type": "markdown",
   "id": "4cebb2f2",
   "metadata": {},
   "source": [
    "Time Complexity : 0(N^2)\n",
    " - N is the maximum size of the 4 input array\n",
    "\n",
    "Space Complexity : O(N) \n",
    "- Due to usage of maps"
   ]
  },
  {
   "cell_type": "code",
   "execution_count": null,
   "id": "0dcdd86a",
   "metadata": {},
   "outputs": [],
   "source": [
    "class Solution:\n",
    "    def fourSumCount(self, A: List[int], B: List[int], C: List[int], D: List[int]) -> int:\n",
    "      m = {}\n",
    "      ans = 0\n",
    "      for i in range(0,len(A)):\n",
    "        x = A[i]\n",
    "        for j in range(0,len(B)):\n",
    "          y = B[j]\n",
    "          if(x+y not in m):\n",
    "            m[x+y] = 0\n",
    "          m[x+y]+=1\n",
    "      for i in range(0,len(C)):\n",
    "        x = C[i]\n",
    "        for j in range(0,len(D)):\n",
    "          y = D[j]\n",
    "          target = -(x+y)\n",
    "          if(target in m):\n",
    "            ans+=m[target]\n",
    "      return ans"
   ]
  }
 ],
 "metadata": {
  "kernelspec": {
   "display_name": "Python 3 (ipykernel)",
   "language": "python",
   "name": "python3"
  },
  "language_info": {
   "codemirror_mode": {
    "name": "ipython",
    "version": 3
   },
   "file_extension": ".py",
   "mimetype": "text/x-python",
   "name": "python",
   "nbconvert_exporter": "python",
   "pygments_lexer": "ipython3",
   "version": "3.8.5"
  }
 },
 "nbformat": 4,
 "nbformat_minor": 5
}
