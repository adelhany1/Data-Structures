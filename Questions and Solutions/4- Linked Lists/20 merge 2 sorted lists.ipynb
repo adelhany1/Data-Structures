{
 "cells": [
  {
   "cell_type": "markdown",
   "id": "8dc5c1fb",
   "metadata": {},
   "source": [
    "- Given 2 seperated sorted linked lists, merge them togather and retain the Sorting of both of them \n",
    "- Utilize the fact that the lists are sorted\n",
    "- Walk through the lists in parallel and compare between current nodes\n",
    "- steps:\n",
    "   - 1.Create new list head node\n",
    "        - cur = ListNode(0);\n",
    "        - ans = cur\n",
    "   - 2. Loop over the 2 lists in parallel as long as both are valid\n",
    "        - cur = ListNode(0);\n",
    "        - ans = cur\n",
    "        - while( L1 and L2) :\n",
    "   - 3. In the loop, compare between current values\n",
    "        - smaller node gets appended to our new list\n",
    "   - 4. increment the counter of the pointer that points to the value that got appended\n",
    "   - 5. Add the remaining of the valid list"
   ]
  },
  {
   "cell_type": "code",
   "execution_count": null,
   "id": "4ad5e297",
   "metadata": {},
   "outputs": [],
   "source": [
    "# Definition for singly-linked list.\n",
    "# class ListNode:\n",
    "#     def __init__(self, x):\n",
    "#         self.val = x\n",
    "#         self.next = None\n",
    "\n",
    "class Solution:\n",
    "    def mergeTwoLists(self, l1: ListNode, l2: ListNode) -> ListNode:\n",
    "        cur = ListNode(0)\n",
    "        ans = cur\n",
    " \n",
    "        while(l1 and l2):\n",
    "            if(l1.val>l2.val):\n",
    "                cur.next = l2\n",
    "                l2 = l2.next\n",
    "            else:\n",
    "                cur.next = l1\n",
    "                l1 = l1.next\n",
    "            cur = cur.next\n",
    "\n",
    "        while(l1):\n",
    "            cur.next = l1\n",
    "            l1 = l1.next\n",
    "            cur = cur.next\n",
    "        while(l2):\n",
    "            cur.next = l2\n",
    "            l2 = l2.next\n",
    "            cur = cur.next\n",
    "        return ans.next"
   ]
  },
  {
   "cell_type": "code",
   "execution_count": null,
   "id": "ae5e15e4",
   "metadata": {},
   "outputs": [],
   "source": []
  },
  {
   "cell_type": "code",
   "execution_count": 10,
   "id": "aa65cd5c",
   "metadata": {},
   "outputs": [],
   "source": [
    "# Definition for singly-linked list.\n",
    "class ListNode:\n",
    "     def __init__(self, x):\n",
    "         self.val = x\n",
    "         self.next = None\n",
    "\n",
    "class Solution:\n",
    "    def mergeTwoLists(self, l1: ListNode, l2: ListNode) -> ListNode:\n",
    "        cur = ListNode(0)\n",
    "        ans = cur\n",
    " \n",
    "        while(l1 and l2):\n",
    "            if(l1.val>l2.val):\n",
    "                cur.next = l2\n",
    "                l2 = l2.next\n",
    "            else:\n",
    "                cur.next = l1\n",
    "                l1 = l1.next\n",
    "            cur = cur.next\n",
    "\n",
    "        while(l1):\n",
    "            cur.next = l1\n",
    "            l1 = l1.next\n",
    "            cur = cur.next\n",
    "        while(l2):\n",
    "            cur.next = l2\n",
    "            l2 = l2.next\n",
    "            cur = cur.next\n",
    "        return ans.next"
   ]
  },
  {
   "cell_type": "code",
   "execution_count": 14,
   "id": "14d9d3c5",
   "metadata": {},
   "outputs": [
    {
     "name": "stdout",
     "output_type": "stream",
     "text": [
      "1\n",
      "1\n",
      "2\n",
      "3\n",
      "4\n",
      "4\n"
     ]
    }
   ],
   "source": [
    "s = Solution ()\n",
    "\n",
    "l1_1= ListNode (1)  # head of the first list\n",
    "l1_2= ListNode (2)\n",
    "l1_4= ListNode (4)\n",
    "l1_1.next = l1_2\n",
    "l1_2.next = l1_4\n",
    "# l1 : 1->2->4\n",
    "\n",
    "l2_1= ListNode (1)  # head of the second list\n",
    "l2_3= ListNode (3)\n",
    "l2_4= ListNode (4)\n",
    "l2_1.next = l2_3\n",
    "l2_3.next = l2_4\n",
    "# l2 : 1->3->4\n",
    "\n",
    "answer = s.mergeTwoLists(l1_1, l2_1)\n",
    "\n",
    "while (answer != None):\n",
    "    print(answer. val)\n",
    "    answer= answer.next"
   ]
  },
  {
   "cell_type": "markdown",
   "id": "7906c09c",
   "metadata": {},
   "source": [
    "--------------------------------"
   ]
  },
  {
   "cell_type": "markdown",
   "id": "81e1f0df",
   "metadata": {},
   "source": [
    "Time complexity: O(N)\n",
    "- We do a pass over our linked list\n",
    "\n",
    "Space complexity: O(1) , we just created a couple of pointers"
   ]
  },
  {
   "cell_type": "code",
   "execution_count": null,
   "id": "6b7b4894",
   "metadata": {},
   "outputs": [],
   "source": []
  }
 ],
 "metadata": {
  "kernelspec": {
   "display_name": "Python 3 (ipykernel)",
   "language": "python",
   "name": "python3"
  },
  "language_info": {
   "codemirror_mode": {
    "name": "ipython",
    "version": 3
   },
   "file_extension": ".py",
   "mimetype": "text/x-python",
   "name": "python",
   "nbconvert_exporter": "python",
   "pygments_lexer": "ipython3",
   "version": "3.9.15"
  }
 },
 "nbformat": 4,
 "nbformat_minor": 5
}
